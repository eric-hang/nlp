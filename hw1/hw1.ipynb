{
 "cells": [
  {
   "cell_type": "code",
   "execution_count": 1,
   "metadata": {},
   "outputs": [],
   "source": [
    "import os\n",
    "import random\n",
    "import time\n",
    "from nltk.corpus import stopwords \n",
    "from nltk.stem import WordNetLemmatizer \n",
    "from sklearn.feature_extraction.text import TfidfVectorizer\n",
    "import pandas as pd\n",
    "from sklearn.neighbors import KNeighborsClassifier\n",
    "import numpy as np\n",
    "import tqdm"
   ]
  },
  {
   "cell_type": "code",
   "execution_count": 2,
   "metadata": {},
   "outputs": [],
   "source": [
    "#这部分已经分好词的话就不用做了\n",
    "def load_preprocess(path):\n",
    "    # 正式开始，首先是读取文件\n",
    "    with open(path, 'r', errors='ignore') as f:\n",
    "        lines = f.readlines()\n",
    "    # 第二部分，去除其中的非文本部分\n",
    "    stop = set(stopwords.words('english')) \n",
    "    res = []\n",
    "    wnl = WordNetLemmatizer()\n",
    "    for data in lines:\n",
    "        data = data.replace('\\n', '')\n",
    "        filter_sentence = [w for w in data.split(' ') if w not in stopwords.words('english') and w != '' and (not w.isdigit())]\n",
    "        # 第四部分，词型还原\n",
    "        filter_sentence = [wnl.lemmatize(i) for i in filter_sentence]\n",
    "        text = ' '.join(filter_sentence)\n",
    "        res.append(text)\n",
    "    return res"
   ]
  },
  {
   "cell_type": "code",
   "execution_count": 3,
   "metadata": {},
   "outputs": [],
   "source": [
    "def process_data(data_path):\n",
    "    \n",
    "    text = load_preprocess(data_path)\n",
    "    \n",
    "    return text"
   ]
  },
  {
   "cell_type": "code",
   "execution_count": 4,
   "metadata": {},
   "outputs": [],
   "source": [
    "# with open('./wiki.txt','r',encoding='utf8') as f:\n",
    "#     lines = f.readlines()\n",
    "# tar = './wiki_sep.txt'\n",
    "# tar = open(tar,'w',encoding='utf8')\n",
    "# stop = set(stopwords.words('english'))\n",
    "# wnl = WordNetLemmatizer()\n",
    "# for line in tqdm.tqdm(lines):\n",
    "#     data = line.replace('/n','')\n",
    "#     filter_sentence = [w for w in data.split(' ') if w not in stopwords.words('english') and w != '' and (not w.isdigit())]\n",
    "#     filter_sentence = [wnl.lemmatize(i) for i in filter_sentence]\n",
    "#     text = ' '.join(filter_sentence)\n",
    "#     tar.writelines(text)"
   ]
  },
  {
   "cell_type": "code",
   "execution_count": 23,
   "metadata": {},
   "outputs": [
    {
     "name": "stderr",
     "output_type": "stream",
     "text": [
      "2021-05-26 02:58:38,616: INFO: running /home/lthpc/anaconda3/lib/python3.8/site-packages/ipykernel_launcher.py -f /home/dzh/.local/share/jupyter/runtime/kernel-8b5b92bf-b3e7-44d2-9ffe-e4d9eb4ddf95.json\n",
      "2021-05-26 02:58:38,618: INFO: collecting all words and their counts\n",
      "2021-05-26 02:58:38,620: INFO: PROGRESS: at sentence #0, processed 0 words, keeping 0 word types\n",
      "2021-05-26 02:58:38,784: INFO: PROGRESS: at sentence #10000, processed 319616 words, keeping 22228 word types\n",
      "2021-05-26 02:58:38,940: INFO: PROGRESS: at sentence #20000, processed 702170 words, keeping 32802 word types\n",
      "2021-05-26 02:58:39,124: INFO: PROGRESS: at sentence #30000, processed 1147862 words, keeping 41186 word types\n",
      "2021-05-26 02:58:39,296: INFO: PROGRESS: at sentence #40000, processed 1570010 words, keeping 47392 word types\n",
      "2021-05-26 02:58:39,438: INFO: PROGRESS: at sentence #50000, processed 1981996 words, keeping 53350 word types\n",
      "2021-05-26 02:58:39,564: INFO: PROGRESS: at sentence #60000, processed 2314055 words, keeping 58496 word types\n",
      "2021-05-26 02:58:39,673: INFO: PROGRESS: at sentence #70000, processed 2594437 words, keeping 62358 word types\n",
      "2021-05-26 02:58:39,791: INFO: PROGRESS: at sentence #80000, processed 2912640 words, keeping 66041 word types\n",
      "2021-05-26 02:58:39,904: INFO: PROGRESS: at sentence #90000, processed 3215388 words, keeping 69468 word types\n",
      "2021-05-26 02:58:39,995: INFO: PROGRESS: at sentence #100000, processed 3451650 words, keeping 72803 word types\n",
      "2021-05-26 02:58:40,091: INFO: PROGRESS: at sentence #110000, processed 3690843 words, keeping 75868 word types\n",
      "2021-05-26 02:58:40,173: INFO: PROGRESS: at sentence #120000, processed 3882060 words, keeping 78214 word types\n",
      "2021-05-26 02:58:40,295: INFO: PROGRESS: at sentence #130000, processed 4231346 words, keeping 81919 word types\n",
      "2021-05-26 02:58:40,424: INFO: PROGRESS: at sentence #140000, processed 4591868 words, keeping 86328 word types\n",
      "2021-05-26 02:58:40,559: INFO: PROGRESS: at sentence #150000, processed 4958691 words, keeping 90470 word types\n",
      "2021-05-26 02:58:40,681: INFO: PROGRESS: at sentence #160000, processed 5292699 words, keeping 93767 word types\n",
      "2021-05-26 02:58:40,801: INFO: PROGRESS: at sentence #170000, processed 5618047 words, keeping 96627 word types\n",
      "2021-05-26 02:58:40,930: INFO: PROGRESS: at sentence #180000, processed 5966672 words, keeping 99869 word types\n",
      "2021-05-26 02:58:41,058: INFO: PROGRESS: at sentence #190000, processed 6316469 words, keeping 103337 word types\n",
      "2021-05-26 02:58:41,189: INFO: PROGRESS: at sentence #200000, processed 6679802 words, keeping 106448 word types\n",
      "2021-05-26 02:58:41,319: INFO: PROGRESS: at sentence #210000, processed 7032086 words, keeping 109770 word types\n",
      "2021-05-26 02:58:41,446: INFO: PROGRESS: at sentence #220000, processed 7389607 words, keeping 112748 word types\n",
      "2021-05-26 02:58:41,593: INFO: PROGRESS: at sentence #230000, processed 7807075 words, keeping 115190 word types\n",
      "2021-05-26 02:58:41,740: INFO: PROGRESS: at sentence #240000, processed 8221927 words, keeping 117769 word types\n",
      "2021-05-26 02:58:41,887: INFO: PROGRESS: at sentence #250000, processed 8630998 words, keeping 120962 word types\n",
      "2021-05-26 02:58:42,032: INFO: PROGRESS: at sentence #260000, processed 9038166 words, keeping 124670 word types\n",
      "2021-05-26 02:58:42,156: INFO: PROGRESS: at sentence #270000, processed 9386523 words, keeping 127881 word types\n",
      "2021-05-26 02:58:42,313: INFO: PROGRESS: at sentence #280000, processed 9815959 words, keeping 131464 word types\n",
      "2021-05-26 02:58:42,460: INFO: PROGRESS: at sentence #290000, processed 10237772 words, keeping 135006 word types\n",
      "2021-05-26 02:58:42,590: INFO: PROGRESS: at sentence #300000, processed 10593067 words, keeping 137665 word types\n",
      "2021-05-26 02:58:42,725: INFO: PROGRESS: at sentence #310000, processed 10971021 words, keeping 140112 word types\n",
      "2021-05-26 02:58:42,877: INFO: PROGRESS: at sentence #320000, processed 11419594 words, keeping 142866 word types\n",
      "2021-05-26 02:58:43,013: INFO: PROGRESS: at sentence #330000, processed 11804954 words, keeping 145152 word types\n",
      "2021-05-26 02:58:43,144: INFO: PROGRESS: at sentence #340000, processed 12172400 words, keeping 147020 word types\n",
      "2021-05-26 02:58:43,271: INFO: PROGRESS: at sentence #350000, processed 12560830 words, keeping 148989 word types\n",
      "2021-05-26 02:58:43,413: INFO: PROGRESS: at sentence #360000, processed 12939023 words, keeping 151518 word types\n",
      "2021-05-26 02:58:43,535: INFO: PROGRESS: at sentence #370000, processed 13280539 words, keeping 154543 word types\n",
      "2021-05-26 02:58:43,656: INFO: PROGRESS: at sentence #380000, processed 13627733 words, keeping 157961 word types\n",
      "2021-05-26 02:58:43,765: INFO: PROGRESS: at sentence #390000, processed 13930329 words, keeping 160609 word types\n",
      "2021-05-26 02:58:43,859: INFO: PROGRESS: at sentence #400000, processed 14179402 words, keeping 162778 word types\n",
      "2021-05-26 02:58:43,906: INFO: PROGRESS: at sentence #410000, processed 14268147 words, keeping 163716 word types\n",
      "2021-05-26 02:58:43,982: INFO: PROGRESS: at sentence #420000, processed 14457861 words, keeping 165157 word types\n",
      "2021-05-26 02:58:44,077: INFO: PROGRESS: at sentence #430000, processed 14705601 words, keeping 166814 word types\n",
      "2021-05-26 02:58:44,106: INFO: collected 167320 word types from a corpus of 14781499 raw words and 433369 sentences\n",
      "2021-05-26 02:58:44,107: INFO: Creating a fresh vocabulary\n",
      "2021-05-26 02:58:44,338: INFO: Word2Vec lifecycle event {'msg': 'effective_min_count=5 retains 50380 unique words (30.10996892182644%% of original 167320, drops 116940)', 'datetime': '2021-05-26T02:58:44.338651', 'gensim': '4.0.1', 'python': '3.8.5 (default, Sep  4 2020, 07:30:14) \\n[GCC 7.3.0]', 'platform': 'Linux-4.4.0-186-generic-x86_64-with-glibc2.10', 'event': 'prepare_vocab'}\n",
      "2021-05-26 02:58:44,339: INFO: Word2Vec lifecycle event {'msg': 'effective_min_count=5 leaves 14598787 word corpus (98.76391426877612%% of original 14781499, drops 182712)', 'datetime': '2021-05-26T02:58:44.339550', 'gensim': '4.0.1', 'python': '3.8.5 (default, Sep  4 2020, 07:30:14) \\n[GCC 7.3.0]', 'platform': 'Linux-4.4.0-186-generic-x86_64-with-glibc2.10', 'event': 'prepare_vocab'}\n",
      "2021-05-26 02:58:44,685: INFO: deleting the raw counts dictionary of 167320 items\n",
      "2021-05-26 02:58:44,690: INFO: sample=0.001 downsamples 22 most-common words\n",
      "2021-05-26 02:58:44,691: INFO: Word2Vec lifecycle event {'msg': 'downsampling leaves estimated 13343286.683293898 word corpus (91.4%% of prior 14598787)', 'datetime': '2021-05-26T02:58:44.691362', 'gensim': '4.0.1', 'python': '3.8.5 (default, Sep  4 2020, 07:30:14) \\n[GCC 7.3.0]', 'platform': 'Linux-4.4.0-186-generic-x86_64-with-glibc2.10', 'event': 'prepare_vocab'}\n",
      "2021-05-26 02:58:45,331: INFO: estimated required memory for 50380 words and 400 dimensions: 186406000 bytes\n",
      "2021-05-26 02:58:45,332: INFO: resetting layer weights\n",
      "2021-05-26 02:58:45,481: INFO: Word2Vec lifecycle event {'update': False, 'trim_rule': 'None', 'datetime': '2021-05-26T02:58:45.481701', 'gensim': '4.0.1', 'python': '3.8.5 (default, Sep  4 2020, 07:30:14) \\n[GCC 7.3.0]', 'platform': 'Linux-4.4.0-186-generic-x86_64-with-glibc2.10', 'event': 'build_vocab'}\n",
      "2021-05-26 02:58:45,482: INFO: Word2Vec lifecycle event {'msg': 'training model with 48 workers on 50380 vocabulary and 400 features, using sg=0 hs=0 sample=0.001 negative=5 window=5', 'datetime': '2021-05-26T02:58:45.482699', 'gensim': '4.0.1', 'python': '3.8.5 (default, Sep  4 2020, 07:30:14) \\n[GCC 7.3.0]', 'platform': 'Linux-4.4.0-186-generic-x86_64-with-glibc2.10', 'event': 'train'}\n",
      "2021-05-26 02:58:46,638: INFO: EPOCH 1 - PROGRESS: at 0.79% examples, 88508 words/s, in_qsize 95, out_qsize 0\n",
      "2021-05-26 02:58:47,648: INFO: EPOCH 1 - PROGRESS: at 5.51% examples, 371364 words/s, in_qsize 89, out_qsize 0\n",
      "2021-05-26 02:58:48,780: INFO: EPOCH 1 - PROGRESS: at 9.19% examples, 434565 words/s, in_qsize 63, out_qsize 32\n",
      "2021-05-26 02:58:49,786: INFO: EPOCH 1 - PROGRESS: at 13.28% examples, 470988 words/s, in_qsize 91, out_qsize 3\n",
      "2021-05-26 02:58:50,791: INFO: EPOCH 1 - PROGRESS: at 19.45% examples, 520215 words/s, in_qsize 95, out_qsize 0\n",
      "2021-05-26 02:58:51,830: INFO: EPOCH 1 - PROGRESS: at 26.96% examples, 550914 words/s, in_qsize 83, out_qsize 2\n"
     ]
    },
    {
     "name": "stderr",
     "output_type": "stream",
     "text": [
      "2021-05-26 02:58:52,864: INFO: EPOCH 1 - PROGRESS: at 33.04% examples, 580817 words/s, in_qsize 77, out_qsize 0\n",
      "2021-05-26 02:58:53,902: INFO: EPOCH 1 - PROGRESS: at 38.08% examples, 588545 words/s, in_qsize 94, out_qsize 0\n",
      "2021-05-26 02:58:54,919: INFO: EPOCH 1 - PROGRESS: at 43.32% examples, 600615 words/s, in_qsize 92, out_qsize 0\n",
      "2021-05-26 02:58:55,923: INFO: EPOCH 1 - PROGRESS: at 48.34% examples, 610122 words/s, in_qsize 93, out_qsize 0\n",
      "2021-05-26 02:58:57,068: INFO: EPOCH 1 - PROGRESS: at 53.11% examples, 611822 words/s, in_qsize 95, out_qsize 0\n",
      "2021-05-26 02:58:58,069: INFO: EPOCH 1 - PROGRESS: at 56.59% examples, 607200 words/s, in_qsize 95, out_qsize 0\n",
      "2021-05-26 02:58:59,094: INFO: EPOCH 1 - PROGRESS: at 60.94% examples, 608489 words/s, in_qsize 92, out_qsize 2\n",
      "2021-05-26 02:59:00,107: INFO: EPOCH 1 - PROGRESS: at 65.39% examples, 616733 words/s, in_qsize 89, out_qsize 1\n",
      "2021-05-26 02:59:01,123: INFO: EPOCH 1 - PROGRESS: at 69.92% examples, 618289 words/s, in_qsize 93, out_qsize 2\n",
      "2021-05-26 02:59:02,139: INFO: EPOCH 1 - PROGRESS: at 74.41% examples, 625131 words/s, in_qsize 91, out_qsize 1\n",
      "2021-05-26 02:59:03,186: INFO: EPOCH 1 - PROGRESS: at 79.03% examples, 626183 words/s, in_qsize 89, out_qsize 5\n",
      "2021-05-26 02:59:04,192: INFO: EPOCH 1 - PROGRESS: at 84.32% examples, 633834 words/s, in_qsize 85, out_qsize 0\n",
      "2021-05-26 02:59:05,255: INFO: EPOCH 1 - PROGRESS: at 87.80% examples, 623364 words/s, in_qsize 95, out_qsize 0\n",
      "2021-05-26 02:59:06,037: INFO: worker thread finished; awaiting finish of 47 more threads\n",
      "2021-05-26 02:59:06,054: INFO: worker thread finished; awaiting finish of 46 more threads\n",
      "2021-05-26 02:59:06,072: INFO: worker thread finished; awaiting finish of 45 more threads\n",
      "2021-05-26 02:59:06,110: INFO: worker thread finished; awaiting finish of 44 more threads\n",
      "2021-05-26 02:59:06,125: INFO: worker thread finished; awaiting finish of 43 more threads\n",
      "2021-05-26 02:59:06,128: INFO: worker thread finished; awaiting finish of 42 more threads\n",
      "2021-05-26 02:59:06,133: INFO: worker thread finished; awaiting finish of 41 more threads\n",
      "2021-05-26 02:59:06,135: INFO: worker thread finished; awaiting finish of 40 more threads\n",
      "2021-05-26 02:59:06,140: INFO: worker thread finished; awaiting finish of 39 more threads\n",
      "2021-05-26 02:59:06,142: INFO: worker thread finished; awaiting finish of 38 more threads\n",
      "2021-05-26 02:59:06,180: INFO: worker thread finished; awaiting finish of 37 more threads\n",
      "2021-05-26 02:59:06,183: INFO: worker thread finished; awaiting finish of 36 more threads\n",
      "2021-05-26 02:59:06,203: INFO: worker thread finished; awaiting finish of 35 more threads\n",
      "2021-05-26 02:59:06,223: INFO: worker thread finished; awaiting finish of 34 more threads\n",
      "2021-05-26 02:59:06,232: INFO: worker thread finished; awaiting finish of 33 more threads\n",
      "2021-05-26 02:59:06,237: INFO: worker thread finished; awaiting finish of 32 more threads\n",
      "2021-05-26 02:59:06,240: INFO: worker thread finished; awaiting finish of 31 more threads\n",
      "2021-05-26 02:59:06,241: INFO: worker thread finished; awaiting finish of 30 more threads\n",
      "2021-05-26 02:59:06,244: INFO: worker thread finished; awaiting finish of 29 more threads\n",
      "2021-05-26 02:59:06,259: INFO: EPOCH 1 - PROGRESS: at 97.32% examples, 631302 words/s, in_qsize 28, out_qsize 1\n",
      "2021-05-26 02:59:06,260: INFO: worker thread finished; awaiting finish of 28 more threads\n",
      "2021-05-26 02:59:06,262: INFO: worker thread finished; awaiting finish of 27 more threads\n",
      "2021-05-26 02:59:06,271: INFO: worker thread finished; awaiting finish of 26 more threads\n",
      "2021-05-26 02:59:06,283: INFO: worker thread finished; awaiting finish of 25 more threads\n",
      "2021-05-26 02:59:06,289: INFO: worker thread finished; awaiting finish of 24 more threads\n",
      "2021-05-26 02:59:06,303: INFO: worker thread finished; awaiting finish of 23 more threads\n",
      "2021-05-26 02:59:06,305: INFO: worker thread finished; awaiting finish of 22 more threads\n",
      "2021-05-26 02:59:06,306: INFO: worker thread finished; awaiting finish of 21 more threads\n",
      "2021-05-26 02:59:06,311: INFO: worker thread finished; awaiting finish of 20 more threads\n",
      "2021-05-26 02:59:06,318: INFO: worker thread finished; awaiting finish of 19 more threads\n",
      "2021-05-26 02:59:06,322: INFO: worker thread finished; awaiting finish of 18 more threads\n",
      "2021-05-26 02:59:06,342: INFO: worker thread finished; awaiting finish of 17 more threads\n",
      "2021-05-26 02:59:06,345: INFO: worker thread finished; awaiting finish of 16 more threads\n",
      "2021-05-26 02:59:06,347: INFO: worker thread finished; awaiting finish of 15 more threads\n",
      "2021-05-26 02:59:06,355: INFO: worker thread finished; awaiting finish of 14 more threads\n",
      "2021-05-26 02:59:06,358: INFO: worker thread finished; awaiting finish of 13 more threads\n",
      "2021-05-26 02:59:06,367: INFO: worker thread finished; awaiting finish of 12 more threads\n",
      "2021-05-26 02:59:06,376: INFO: worker thread finished; awaiting finish of 11 more threads\n",
      "2021-05-26 02:59:06,379: INFO: worker thread finished; awaiting finish of 10 more threads\n",
      "2021-05-26 02:59:06,380: INFO: worker thread finished; awaiting finish of 9 more threads\n",
      "2021-05-26 02:59:06,387: INFO: worker thread finished; awaiting finish of 8 more threads\n",
      "2021-05-26 02:59:06,389: INFO: worker thread finished; awaiting finish of 7 more threads\n",
      "2021-05-26 02:59:06,391: INFO: worker thread finished; awaiting finish of 6 more threads\n",
      "2021-05-26 02:59:06,391: INFO: worker thread finished; awaiting finish of 5 more threads\n",
      "2021-05-26 02:59:06,394: INFO: worker thread finished; awaiting finish of 4 more threads\n",
      "2021-05-26 02:59:06,396: INFO: worker thread finished; awaiting finish of 3 more threads\n",
      "2021-05-26 02:59:06,398: INFO: worker thread finished; awaiting finish of 2 more threads\n",
      "2021-05-26 02:59:06,399: INFO: worker thread finished; awaiting finish of 1 more threads\n",
      "2021-05-26 02:59:06,399: INFO: worker thread finished; awaiting finish of 0 more threads\n",
      "2021-05-26 02:59:06,400: INFO: EPOCH - 1 : training on 14781499 raw words (13343908 effective words) took 20.9s, 639118 effective words/s\n",
      "2021-05-26 02:59:07,430: INFO: EPOCH 2 - PROGRESS: at 1.89% examples, 229288 words/s, in_qsize 95, out_qsize 0\n",
      "2021-05-26 02:59:08,434: INFO: EPOCH 2 - PROGRESS: at 5.95% examples, 429854 words/s, in_qsize 89, out_qsize 0\n",
      "2021-05-26 02:59:09,464: INFO: EPOCH 2 - PROGRESS: at 9.97% examples, 507600 words/s, in_qsize 88, out_qsize 2\n",
      "2021-05-26 02:59:10,470: INFO: EPOCH 2 - PROGRESS: at 15.83% examples, 568199 words/s, in_qsize 95, out_qsize 0\n",
      "2021-05-26 02:59:11,510: INFO: EPOCH 2 - PROGRESS: at 21.88% examples, 588975 words/s, in_qsize 95, out_qsize 0\n",
      "2021-05-26 02:59:12,550: INFO: EPOCH 2 - PROGRESS: at 28.24% examples, 585338 words/s, in_qsize 93, out_qsize 2\n",
      "2021-05-26 02:59:13,568: INFO: EPOCH 2 - PROGRESS: at 33.38% examples, 602086 words/s, in_qsize 93, out_qsize 2\n",
      "2021-05-26 02:59:14,578: INFO: EPOCH 2 - PROGRESS: at 37.63% examples, 597263 words/s, in_qsize 96, out_qsize 0\n",
      "2021-05-26 02:59:15,591: INFO: EPOCH 2 - PROGRESS: at 41.84% examples, 592334 words/s, in_qsize 92, out_qsize 0\n",
      "2021-05-26 02:59:16,633: INFO: EPOCH 2 - PROGRESS: at 47.11% examples, 604091 words/s, in_qsize 96, out_qsize 1\n",
      "2021-05-26 02:59:17,642: INFO: EPOCH 2 - PROGRESS: at 51.94% examples, 612097 words/s, in_qsize 93, out_qsize 0\n",
      "2021-05-26 02:59:18,667: INFO: EPOCH 2 - PROGRESS: at 55.75% examples, 611315 words/s, in_qsize 95, out_qsize 0\n",
      "2021-05-26 02:59:19,679: INFO: EPOCH 2 - PROGRESS: at 60.89% examples, 621728 words/s, in_qsize 95, out_qsize 0\n",
      "2021-05-26 02:59:20,710: INFO: EPOCH 2 - PROGRESS: at 65.03% examples, 624055 words/s, in_qsize 94, out_qsize 0\n",
      "2021-05-26 02:59:21,763: INFO: EPOCH 2 - PROGRESS: at 69.55% examples, 625352 words/s, in_qsize 85, out_qsize 0\n",
      "2021-05-26 02:59:22,826: INFO: EPOCH 2 - PROGRESS: at 72.97% examples, 617570 words/s, in_qsize 95, out_qsize 0\n",
      "2021-05-26 02:59:23,846: INFO: EPOCH 2 - PROGRESS: at 77.35% examples, 620513 words/s, in_qsize 95, out_qsize 0\n",
      "2021-05-26 02:59:24,848: INFO: EPOCH 2 - PROGRESS: at 82.24% examples, 626205 words/s, in_qsize 76, out_qsize 0\n",
      "2021-05-26 02:59:25,863: INFO: EPOCH 2 - PROGRESS: at 87.34% examples, 629119 words/s, in_qsize 96, out_qsize 0\n",
      "2021-05-26 02:59:26,865: INFO: EPOCH 2 - PROGRESS: at 95.77% examples, 631565 words/s, in_qsize 47, out_qsize 1\n"
     ]
    },
    {
     "name": "stderr",
     "output_type": "stream",
     "text": [
      "2021-05-26 02:59:26,871: INFO: worker thread finished; awaiting finish of 47 more threads\n",
      "2021-05-26 02:59:26,874: INFO: worker thread finished; awaiting finish of 46 more threads\n",
      "2021-05-26 02:59:26,895: INFO: worker thread finished; awaiting finish of 45 more threads\n",
      "2021-05-26 02:59:26,907: INFO: worker thread finished; awaiting finish of 44 more threads\n",
      "2021-05-26 02:59:26,913: INFO: worker thread finished; awaiting finish of 43 more threads\n",
      "2021-05-26 02:59:26,916: INFO: worker thread finished; awaiting finish of 42 more threads\n",
      "2021-05-26 02:59:26,933: INFO: worker thread finished; awaiting finish of 41 more threads\n",
      "2021-05-26 02:59:26,936: INFO: worker thread finished; awaiting finish of 40 more threads\n",
      "2021-05-26 02:59:26,940: INFO: worker thread finished; awaiting finish of 39 more threads\n",
      "2021-05-26 02:59:26,965: INFO: worker thread finished; awaiting finish of 38 more threads\n",
      "2021-05-26 02:59:26,987: INFO: worker thread finished; awaiting finish of 37 more threads\n",
      "2021-05-26 02:59:26,989: INFO: worker thread finished; awaiting finish of 36 more threads\n",
      "2021-05-26 02:59:26,994: INFO: worker thread finished; awaiting finish of 35 more threads\n",
      "2021-05-26 02:59:27,014: INFO: worker thread finished; awaiting finish of 34 more threads\n",
      "2021-05-26 02:59:27,041: INFO: worker thread finished; awaiting finish of 33 more threads\n",
      "2021-05-26 02:59:27,060: INFO: worker thread finished; awaiting finish of 32 more threads\n",
      "2021-05-26 02:59:27,063: INFO: worker thread finished; awaiting finish of 31 more threads\n",
      "2021-05-26 02:59:27,075: INFO: worker thread finished; awaiting finish of 30 more threads\n",
      "2021-05-26 02:59:27,081: INFO: worker thread finished; awaiting finish of 29 more threads\n",
      "2021-05-26 02:59:27,086: INFO: worker thread finished; awaiting finish of 28 more threads\n",
      "2021-05-26 02:59:27,089: INFO: worker thread finished; awaiting finish of 27 more threads\n",
      "2021-05-26 02:59:27,090: INFO: worker thread finished; awaiting finish of 26 more threads\n",
      "2021-05-26 02:59:27,096: INFO: worker thread finished; awaiting finish of 25 more threads\n",
      "2021-05-26 02:59:27,098: INFO: worker thread finished; awaiting finish of 24 more threads\n",
      "2021-05-26 02:59:27,100: INFO: worker thread finished; awaiting finish of 23 more threads\n",
      "2021-05-26 02:59:27,101: INFO: worker thread finished; awaiting finish of 22 more threads\n",
      "2021-05-26 02:59:27,104: INFO: worker thread finished; awaiting finish of 21 more threads\n",
      "2021-05-26 02:59:27,105: INFO: worker thread finished; awaiting finish of 20 more threads\n",
      "2021-05-26 02:59:27,131: INFO: worker thread finished; awaiting finish of 19 more threads\n",
      "2021-05-26 02:59:27,143: INFO: worker thread finished; awaiting finish of 18 more threads\n",
      "2021-05-26 02:59:27,145: INFO: worker thread finished; awaiting finish of 17 more threads\n",
      "2021-05-26 02:59:27,152: INFO: worker thread finished; awaiting finish of 16 more threads\n",
      "2021-05-26 02:59:27,154: INFO: worker thread finished; awaiting finish of 15 more threads\n",
      "2021-05-26 02:59:27,157: INFO: worker thread finished; awaiting finish of 14 more threads\n",
      "2021-05-26 02:59:27,165: INFO: worker thread finished; awaiting finish of 13 more threads\n",
      "2021-05-26 02:59:27,167: INFO: worker thread finished; awaiting finish of 12 more threads\n",
      "2021-05-26 02:59:27,170: INFO: worker thread finished; awaiting finish of 11 more threads\n",
      "2021-05-26 02:59:27,171: INFO: worker thread finished; awaiting finish of 10 more threads\n",
      "2021-05-26 02:59:27,173: INFO: worker thread finished; awaiting finish of 9 more threads\n",
      "2021-05-26 02:59:27,175: INFO: worker thread finished; awaiting finish of 8 more threads\n",
      "2021-05-26 02:59:27,177: INFO: worker thread finished; awaiting finish of 7 more threads\n",
      "2021-05-26 02:59:27,178: INFO: worker thread finished; awaiting finish of 6 more threads\n",
      "2021-05-26 02:59:27,180: INFO: worker thread finished; awaiting finish of 5 more threads\n",
      "2021-05-26 02:59:27,188: INFO: worker thread finished; awaiting finish of 4 more threads\n",
      "2021-05-26 02:59:27,189: INFO: worker thread finished; awaiting finish of 3 more threads\n",
      "2021-05-26 02:59:27,191: INFO: worker thread finished; awaiting finish of 2 more threads\n",
      "2021-05-26 02:59:27,193: INFO: worker thread finished; awaiting finish of 1 more threads\n",
      "2021-05-26 02:59:27,194: INFO: worker thread finished; awaiting finish of 0 more threads\n",
      "2021-05-26 02:59:27,195: INFO: EPOCH - 2 : training on 14781499 raw words (13343449 effective words) took 20.8s, 641970 effective words/s\n",
      "2021-05-26 02:59:28,207: INFO: EPOCH 3 - PROGRESS: at 1.49% examples, 179917 words/s, in_qsize 95, out_qsize 0\n",
      "2021-05-26 02:59:29,224: INFO: EPOCH 3 - PROGRESS: at 5.02% examples, 346826 words/s, in_qsize 88, out_qsize 0\n",
      "2021-05-26 02:59:30,247: INFO: EPOCH 3 - PROGRESS: at 9.22% examples, 465442 words/s, in_qsize 94, out_qsize 1\n",
      "2021-05-26 02:59:31,251: INFO: EPOCH 3 - PROGRESS: at 14.35% examples, 530019 words/s, in_qsize 95, out_qsize 0\n",
      "2021-05-26 02:59:32,263: INFO: EPOCH 3 - PROGRESS: at 20.08% examples, 559756 words/s, in_qsize 93, out_qsize 2\n",
      "2021-05-26 02:59:33,287: INFO: EPOCH 3 - PROGRESS: at 28.27% examples, 590952 words/s, in_qsize 95, out_qsize 1\n",
      "2021-05-26 02:59:34,292: INFO: EPOCH 3 - PROGRESS: at 32.63% examples, 593121 words/s, in_qsize 90, out_qsize 1\n",
      "2021-05-26 02:59:35,298: INFO: EPOCH 3 - PROGRESS: at 37.89% examples, 607312 words/s, in_qsize 90, out_qsize 1\n",
      "2021-05-26 02:59:36,301: INFO: EPOCH 3 - PROGRESS: at 41.66% examples, 595904 words/s, in_qsize 95, out_qsize 0\n",
      "2021-05-26 02:59:37,310: INFO: EPOCH 3 - PROGRESS: at 46.60% examples, 604088 words/s, in_qsize 87, out_qsize 0\n",
      "2021-05-26 02:59:38,321: INFO: EPOCH 3 - PROGRESS: at 51.76% examples, 616068 words/s, in_qsize 73, out_qsize 0\n",
      "2021-05-26 02:59:39,345: INFO: EPOCH 3 - PROGRESS: at 56.48% examples, 626125 words/s, in_qsize 92, out_qsize 3\n",
      "2021-05-26 02:59:40,369: INFO: EPOCH 3 - PROGRESS: at 61.31% examples, 631525 words/s, in_qsize 96, out_qsize 0\n",
      "2021-05-26 02:59:41,378: INFO: EPOCH 3 - PROGRESS: at 65.58% examples, 637181 words/s, in_qsize 87, out_qsize 0\n",
      "2021-05-26 02:59:42,385: INFO: EPOCH 3 - PROGRESS: at 70.47% examples, 640804 words/s, in_qsize 94, out_qsize 0\n",
      "2021-05-26 02:59:43,385: INFO: EPOCH 3 - PROGRESS: at 74.86% examples, 646529 words/s, in_qsize 87, out_qsize 0\n",
      "2021-05-26 02:59:44,403: INFO: EPOCH 3 - PROGRESS: at 79.48% examples, 646863 words/s, in_qsize 93, out_qsize 2\n",
      "2021-05-26 02:59:45,438: INFO: EPOCH 3 - PROGRESS: at 85.05% examples, 654533 words/s, in_qsize 61, out_qsize 0\n",
      "2021-05-26 02:59:46,454: INFO: EPOCH 3 - PROGRESS: at 87.31% examples, 635350 words/s, in_qsize 94, out_qsize 1\n",
      "2021-05-26 02:59:47,248: INFO: worker thread finished; awaiting finish of 47 more threads\n",
      "2021-05-26 02:59:47,256: INFO: worker thread finished; awaiting finish of 46 more threads\n",
      "2021-05-26 02:59:47,303: INFO: worker thread finished; awaiting finish of 45 more threads\n",
      "2021-05-26 02:59:47,314: INFO: worker thread finished; awaiting finish of 44 more threads\n",
      "2021-05-26 02:59:47,322: INFO: worker thread finished; awaiting finish of 43 more threads\n",
      "2021-05-26 02:59:47,331: INFO: worker thread finished; awaiting finish of 42 more threads\n",
      "2021-05-26 02:59:47,350: INFO: worker thread finished; awaiting finish of 41 more threads\n",
      "2021-05-26 02:59:47,373: INFO: worker thread finished; awaiting finish of 40 more threads\n",
      "2021-05-26 02:59:47,386: INFO: worker thread finished; awaiting finish of 39 more threads\n",
      "2021-05-26 02:59:47,393: INFO: worker thread finished; awaiting finish of 38 more threads\n",
      "2021-05-26 02:59:47,395: INFO: worker thread finished; awaiting finish of 37 more threads\n",
      "2021-05-26 02:59:47,396: INFO: worker thread finished; awaiting finish of 36 more threads\n",
      "2021-05-26 02:59:47,407: INFO: worker thread finished; awaiting finish of 35 more threads\n",
      "2021-05-26 02:59:47,432: INFO: worker thread finished; awaiting finish of 34 more threads\n",
      "2021-05-26 02:59:47,433: INFO: worker thread finished; awaiting finish of 33 more threads\n",
      "2021-05-26 02:59:47,453: INFO: worker thread finished; awaiting finish of 32 more threads\n",
      "2021-05-26 02:59:47,460: INFO: EPOCH 3 - PROGRESS: at 97.12% examples, 645011 words/s, in_qsize 31, out_qsize 1\n",
      "2021-05-26 02:59:47,461: INFO: worker thread finished; awaiting finish of 31 more threads\n"
     ]
    },
    {
     "name": "stderr",
     "output_type": "stream",
     "text": [
      "2021-05-26 02:59:47,475: INFO: worker thread finished; awaiting finish of 30 more threads\n",
      "2021-05-26 02:59:47,478: INFO: worker thread finished; awaiting finish of 29 more threads\n",
      "2021-05-26 02:59:47,481: INFO: worker thread finished; awaiting finish of 28 more threads\n",
      "2021-05-26 02:59:47,493: INFO: worker thread finished; awaiting finish of 27 more threads\n",
      "2021-05-26 02:59:47,496: INFO: worker thread finished; awaiting finish of 26 more threads\n",
      "2021-05-26 02:59:47,518: INFO: worker thread finished; awaiting finish of 25 more threads\n",
      "2021-05-26 02:59:47,522: INFO: worker thread finished; awaiting finish of 24 more threads\n",
      "2021-05-26 02:59:47,528: INFO: worker thread finished; awaiting finish of 23 more threads\n",
      "2021-05-26 02:59:47,537: INFO: worker thread finished; awaiting finish of 22 more threads\n",
      "2021-05-26 02:59:47,544: INFO: worker thread finished; awaiting finish of 21 more threads\n",
      "2021-05-26 02:59:47,551: INFO: worker thread finished; awaiting finish of 20 more threads\n",
      "2021-05-26 02:59:47,558: INFO: worker thread finished; awaiting finish of 19 more threads\n",
      "2021-05-26 02:59:47,560: INFO: worker thread finished; awaiting finish of 18 more threads\n",
      "2021-05-26 02:59:47,586: INFO: worker thread finished; awaiting finish of 17 more threads\n",
      "2021-05-26 02:59:47,589: INFO: worker thread finished; awaiting finish of 16 more threads\n",
      "2021-05-26 02:59:47,590: INFO: worker thread finished; awaiting finish of 15 more threads\n",
      "2021-05-26 02:59:47,596: INFO: worker thread finished; awaiting finish of 14 more threads\n",
      "2021-05-26 02:59:47,599: INFO: worker thread finished; awaiting finish of 13 more threads\n",
      "2021-05-26 02:59:47,601: INFO: worker thread finished; awaiting finish of 12 more threads\n",
      "2021-05-26 02:59:47,603: INFO: worker thread finished; awaiting finish of 11 more threads\n",
      "2021-05-26 02:59:47,604: INFO: worker thread finished; awaiting finish of 10 more threads\n",
      "2021-05-26 02:59:47,606: INFO: worker thread finished; awaiting finish of 9 more threads\n",
      "2021-05-26 02:59:47,608: INFO: worker thread finished; awaiting finish of 8 more threads\n",
      "2021-05-26 02:59:47,608: INFO: worker thread finished; awaiting finish of 7 more threads\n",
      "2021-05-26 02:59:47,609: INFO: worker thread finished; awaiting finish of 6 more threads\n",
      "2021-05-26 02:59:47,611: INFO: worker thread finished; awaiting finish of 5 more threads\n",
      "2021-05-26 02:59:47,613: INFO: worker thread finished; awaiting finish of 4 more threads\n",
      "2021-05-26 02:59:47,616: INFO: worker thread finished; awaiting finish of 3 more threads\n",
      "2021-05-26 02:59:47,617: INFO: worker thread finished; awaiting finish of 2 more threads\n",
      "2021-05-26 02:59:47,621: INFO: worker thread finished; awaiting finish of 1 more threads\n",
      "2021-05-26 02:59:47,623: INFO: worker thread finished; awaiting finish of 0 more threads\n",
      "2021-05-26 02:59:47,624: INFO: EPOCH - 3 : training on 14781499 raw words (13344215 effective words) took 20.4s, 653543 effective words/s\n",
      "2021-05-26 02:59:48,636: INFO: EPOCH 4 - PROGRESS: at 3.43% examples, 439284 words/s, in_qsize 92, out_qsize 0\n",
      "2021-05-26 02:59:49,654: INFO: EPOCH 4 - PROGRESS: at 6.98% examples, 514571 words/s, in_qsize 72, out_qsize 3\n",
      "2021-05-26 02:59:50,753: INFO: EPOCH 4 - PROGRESS: at 10.46% examples, 522546 words/s, in_qsize 94, out_qsize 1\n",
      "2021-05-26 02:59:51,775: INFO: EPOCH 4 - PROGRESS: at 14.69% examples, 526440 words/s, in_qsize 96, out_qsize 0\n",
      "2021-05-26 02:59:52,799: INFO: EPOCH 4 - PROGRESS: at 19.31% examples, 528774 words/s, in_qsize 85, out_qsize 1\n",
      "2021-05-26 02:59:53,814: INFO: EPOCH 4 - PROGRESS: at 27.29% examples, 565220 words/s, in_qsize 84, out_qsize 0\n",
      "2021-05-26 02:59:54,835: INFO: EPOCH 4 - PROGRESS: at 32.76% examples, 585929 words/s, in_qsize 88, out_qsize 0\n",
      "2021-05-26 02:59:55,840: INFO: EPOCH 4 - PROGRESS: at 37.96% examples, 598683 words/s, in_qsize 76, out_qsize 0\n",
      "2021-05-26 02:59:56,850: INFO: EPOCH 4 - PROGRESS: at 43.22% examples, 610467 words/s, in_qsize 94, out_qsize 0\n",
      "2021-05-26 02:59:57,855: INFO: EPOCH 4 - PROGRESS: at 47.97% examples, 616428 words/s, in_qsize 94, out_qsize 0\n",
      "2021-05-26 02:59:58,886: INFO: EPOCH 4 - PROGRESS: at 52.84% examples, 623686 words/s, in_qsize 95, out_qsize 0\n",
      "2021-05-26 02:59:59,984: INFO: EPOCH 4 - PROGRESS: at 56.39% examples, 614595 words/s, in_qsize 96, out_qsize 0\n",
      "2021-05-26 03:00:01,012: INFO: EPOCH 4 - PROGRESS: at 60.50% examples, 612570 words/s, in_qsize 94, out_qsize 1\n",
      "2021-05-26 03:00:02,050: INFO: EPOCH 4 - PROGRESS: at 64.91% examples, 617743 words/s, in_qsize 94, out_qsize 1\n",
      "2021-05-26 03:00:03,050: INFO: EPOCH 4 - PROGRESS: at 69.40% examples, 621023 words/s, in_qsize 90, out_qsize 1\n",
      "2021-05-26 03:00:04,065: INFO: EPOCH 4 - PROGRESS: at 74.25% examples, 631057 words/s, in_qsize 87, out_qsize 0\n",
      "2021-05-26 03:00:05,089: INFO: EPOCH 4 - PROGRESS: at 78.99% examples, 633121 words/s, in_qsize 92, out_qsize 3\n",
      "2021-05-26 03:00:06,091: INFO: EPOCH 4 - PROGRESS: at 83.61% examples, 636222 words/s, in_qsize 75, out_qsize 1\n",
      "2021-05-26 03:00:07,152: INFO: EPOCH 4 - PROGRESS: at 88.36% examples, 633870 words/s, in_qsize 95, out_qsize 0\n",
      "2021-05-26 03:00:07,799: INFO: worker thread finished; awaiting finish of 47 more threads\n",
      "2021-05-26 03:00:07,811: INFO: worker thread finished; awaiting finish of 46 more threads\n",
      "2021-05-26 03:00:07,815: INFO: worker thread finished; awaiting finish of 45 more threads\n",
      "2021-05-26 03:00:07,819: INFO: worker thread finished; awaiting finish of 44 more threads\n",
      "2021-05-26 03:00:07,856: INFO: worker thread finished; awaiting finish of 43 more threads\n",
      "2021-05-26 03:00:07,858: INFO: worker thread finished; awaiting finish of 42 more threads\n",
      "2021-05-26 03:00:07,861: INFO: worker thread finished; awaiting finish of 41 more threads\n",
      "2021-05-26 03:00:07,865: INFO: worker thread finished; awaiting finish of 40 more threads\n",
      "2021-05-26 03:00:07,891: INFO: worker thread finished; awaiting finish of 39 more threads\n",
      "2021-05-26 03:00:07,892: INFO: worker thread finished; awaiting finish of 38 more threads\n",
      "2021-05-26 03:00:07,901: INFO: worker thread finished; awaiting finish of 37 more threads\n",
      "2021-05-26 03:00:07,910: INFO: worker thread finished; awaiting finish of 36 more threads\n",
      "2021-05-26 03:00:07,915: INFO: worker thread finished; awaiting finish of 35 more threads\n",
      "2021-05-26 03:00:07,955: INFO: worker thread finished; awaiting finish of 34 more threads\n",
      "2021-05-26 03:00:07,956: INFO: worker thread finished; awaiting finish of 33 more threads\n",
      "2021-05-26 03:00:07,963: INFO: worker thread finished; awaiting finish of 32 more threads\n",
      "2021-05-26 03:00:07,974: INFO: worker thread finished; awaiting finish of 31 more threads\n",
      "2021-05-26 03:00:07,977: INFO: worker thread finished; awaiting finish of 30 more threads\n",
      "2021-05-26 03:00:07,977: INFO: worker thread finished; awaiting finish of 29 more threads\n",
      "2021-05-26 03:00:07,979: INFO: worker thread finished; awaiting finish of 28 more threads\n",
      "2021-05-26 03:00:07,985: INFO: worker thread finished; awaiting finish of 27 more threads\n",
      "2021-05-26 03:00:07,987: INFO: worker thread finished; awaiting finish of 26 more threads\n",
      "2021-05-26 03:00:07,990: INFO: worker thread finished; awaiting finish of 25 more threads\n",
      "2021-05-26 03:00:08,008: INFO: worker thread finished; awaiting finish of 24 more threads\n",
      "2021-05-26 03:00:08,025: INFO: worker thread finished; awaiting finish of 23 more threads\n",
      "2021-05-26 03:00:08,028: INFO: worker thread finished; awaiting finish of 22 more threads\n",
      "2021-05-26 03:00:08,030: INFO: worker thread finished; awaiting finish of 21 more threads\n",
      "2021-05-26 03:00:08,032: INFO: worker thread finished; awaiting finish of 20 more threads\n",
      "2021-05-26 03:00:08,038: INFO: worker thread finished; awaiting finish of 19 more threads\n",
      "2021-05-26 03:00:08,056: INFO: worker thread finished; awaiting finish of 18 more threads\n",
      "2021-05-26 03:00:08,067: INFO: worker thread finished; awaiting finish of 17 more threads\n",
      "2021-05-26 03:00:08,076: INFO: worker thread finished; awaiting finish of 16 more threads\n",
      "2021-05-26 03:00:08,077: INFO: worker thread finished; awaiting finish of 15 more threads\n",
      "2021-05-26 03:00:08,079: INFO: worker thread finished; awaiting finish of 14 more threads\n",
      "2021-05-26 03:00:08,083: INFO: worker thread finished; awaiting finish of 13 more threads\n"
     ]
    },
    {
     "name": "stderr",
     "output_type": "stream",
     "text": [
      "2021-05-26 03:00:08,090: INFO: worker thread finished; awaiting finish of 12 more threads\n",
      "2021-05-26 03:00:08,091: INFO: worker thread finished; awaiting finish of 11 more threads\n",
      "2021-05-26 03:00:08,091: INFO: worker thread finished; awaiting finish of 10 more threads\n",
      "2021-05-26 03:00:08,098: INFO: worker thread finished; awaiting finish of 9 more threads\n",
      "2021-05-26 03:00:08,100: INFO: worker thread finished; awaiting finish of 8 more threads\n",
      "2021-05-26 03:00:08,101: INFO: worker thread finished; awaiting finish of 7 more threads\n",
      "2021-05-26 03:00:08,103: INFO: worker thread finished; awaiting finish of 6 more threads\n",
      "2021-05-26 03:00:08,106: INFO: worker thread finished; awaiting finish of 5 more threads\n",
      "2021-05-26 03:00:08,107: INFO: worker thread finished; awaiting finish of 4 more threads\n",
      "2021-05-26 03:00:08,110: INFO: worker thread finished; awaiting finish of 3 more threads\n",
      "2021-05-26 03:00:08,111: INFO: worker thread finished; awaiting finish of 2 more threads\n",
      "2021-05-26 03:00:08,113: INFO: worker thread finished; awaiting finish of 1 more threads\n",
      "2021-05-26 03:00:08,118: INFO: worker thread finished; awaiting finish of 0 more threads\n",
      "2021-05-26 03:00:08,118: INFO: EPOCH - 4 : training on 14781499 raw words (13343026 effective words) took 20.5s, 651326 effective words/s\n",
      "2021-05-26 03:00:09,133: INFO: EPOCH 5 - PROGRESS: at 2.44% examples, 313613 words/s, in_qsize 85, out_qsize 0\n",
      "2021-05-26 03:00:10,140: INFO: EPOCH 5 - PROGRESS: at 6.07% examples, 441823 words/s, in_qsize 89, out_qsize 2\n",
      "2021-05-26 03:00:11,149: INFO: EPOCH 5 - PROGRESS: at 10.12% examples, 519392 words/s, in_qsize 96, out_qsize 1\n",
      "2021-05-26 03:00:12,167: INFO: EPOCH 5 - PROGRESS: at 14.98% examples, 546719 words/s, in_qsize 85, out_qsize 1\n",
      "2021-05-26 03:00:13,173: INFO: EPOCH 5 - PROGRESS: at 21.16% examples, 582894 words/s, in_qsize 86, out_qsize 0\n",
      "2021-05-26 03:00:14,253: INFO: EPOCH 5 - PROGRESS: at 26.04% examples, 554315 words/s, in_qsize 95, out_qsize 0\n",
      "2021-05-26 03:00:15,277: INFO: EPOCH 5 - PROGRESS: at 31.72% examples, 569235 words/s, in_qsize 93, out_qsize 0\n",
      "2021-05-26 03:00:16,283: INFO: EPOCH 5 - PROGRESS: at 36.93% examples, 587141 words/s, in_qsize 92, out_qsize 0\n",
      "2021-05-26 03:00:17,291: INFO: EPOCH 5 - PROGRESS: at 42.48% examples, 603333 words/s, in_qsize 94, out_qsize 1\n",
      "2021-05-26 03:00:18,293: INFO: EPOCH 5 - PROGRESS: at 47.70% examples, 615525 words/s, in_qsize 90, out_qsize 0\n",
      "2021-05-26 03:00:19,299: INFO: EPOCH 5 - PROGRESS: at 52.17% examples, 618686 words/s, in_qsize 92, out_qsize 3\n",
      "2021-05-26 03:00:20,333: INFO: EPOCH 5 - PROGRESS: at 56.73% examples, 625696 words/s, in_qsize 93, out_qsize 2\n",
      "2021-05-26 03:00:21,349: INFO: EPOCH 5 - PROGRESS: at 61.77% examples, 634082 words/s, in_qsize 90, out_qsize 0\n",
      "2021-05-26 03:00:22,374: INFO: EPOCH 5 - PROGRESS: at 66.09% examples, 640067 words/s, in_qsize 94, out_qsize 0\n",
      "2021-05-26 03:00:23,397: INFO: EPOCH 5 - PROGRESS: at 71.32% examples, 645192 words/s, in_qsize 96, out_qsize 0\n",
      "2021-05-26 03:00:24,402: INFO: EPOCH 5 - PROGRESS: at 74.29% examples, 637204 words/s, in_qsize 85, out_qsize 0\n",
      "2021-05-26 03:00:25,412: INFO: EPOCH 5 - PROGRESS: at 79.15% examples, 641016 words/s, in_qsize 92, out_qsize 0\n",
      "2021-05-26 03:00:26,424: INFO: EPOCH 5 - PROGRESS: at 83.57% examples, 641430 words/s, in_qsize 78, out_qsize 0\n",
      "2021-05-26 03:00:27,427: INFO: EPOCH 5 - PROGRESS: at 88.04% examples, 638849 words/s, in_qsize 96, out_qsize 0\n",
      "2021-05-26 03:00:28,223: INFO: worker thread finished; awaiting finish of 47 more threads\n",
      "2021-05-26 03:00:28,243: INFO: worker thread finished; awaiting finish of 46 more threads\n",
      "2021-05-26 03:00:28,246: INFO: worker thread finished; awaiting finish of 45 more threads\n",
      "2021-05-26 03:00:28,252: INFO: worker thread finished; awaiting finish of 44 more threads\n",
      "2021-05-26 03:00:28,255: INFO: worker thread finished; awaiting finish of 43 more threads\n",
      "2021-05-26 03:00:28,258: INFO: worker thread finished; awaiting finish of 42 more threads\n",
      "2021-05-26 03:00:28,260: INFO: worker thread finished; awaiting finish of 41 more threads\n",
      "2021-05-26 03:00:28,275: INFO: worker thread finished; awaiting finish of 40 more threads\n",
      "2021-05-26 03:00:28,290: INFO: worker thread finished; awaiting finish of 39 more threads\n",
      "2021-05-26 03:00:28,292: INFO: worker thread finished; awaiting finish of 38 more threads\n",
      "2021-05-26 03:00:28,296: INFO: worker thread finished; awaiting finish of 37 more threads\n",
      "2021-05-26 03:00:28,354: INFO: worker thread finished; awaiting finish of 36 more threads\n",
      "2021-05-26 03:00:28,360: INFO: worker thread finished; awaiting finish of 35 more threads\n",
      "2021-05-26 03:00:28,369: INFO: worker thread finished; awaiting finish of 34 more threads\n",
      "2021-05-26 03:00:28,377: INFO: worker thread finished; awaiting finish of 33 more threads\n",
      "2021-05-26 03:00:28,379: INFO: worker thread finished; awaiting finish of 32 more threads\n",
      "2021-05-26 03:00:28,388: INFO: worker thread finished; awaiting finish of 31 more threads\n",
      "2021-05-26 03:00:28,393: INFO: worker thread finished; awaiting finish of 30 more threads\n",
      "2021-05-26 03:00:28,414: INFO: worker thread finished; awaiting finish of 29 more threads\n",
      "2021-05-26 03:00:28,418: INFO: worker thread finished; awaiting finish of 28 more threads\n",
      "2021-05-26 03:00:28,435: INFO: EPOCH 5 - PROGRESS: at 97.43% examples, 645131 words/s, in_qsize 26, out_qsize 3\n",
      "2021-05-26 03:00:28,436: INFO: worker thread finished; awaiting finish of 27 more threads\n",
      "2021-05-26 03:00:28,438: INFO: worker thread finished; awaiting finish of 26 more threads\n",
      "2021-05-26 03:00:28,438: INFO: worker thread finished; awaiting finish of 25 more threads\n",
      "2021-05-26 03:00:28,449: INFO: worker thread finished; awaiting finish of 24 more threads\n",
      "2021-05-26 03:00:28,451: INFO: worker thread finished; awaiting finish of 23 more threads\n",
      "2021-05-26 03:00:28,481: INFO: worker thread finished; awaiting finish of 22 more threads\n",
      "2021-05-26 03:00:28,483: INFO: worker thread finished; awaiting finish of 21 more threads\n",
      "2021-05-26 03:00:28,488: INFO: worker thread finished; awaiting finish of 20 more threads\n",
      "2021-05-26 03:00:28,495: INFO: worker thread finished; awaiting finish of 19 more threads\n",
      "2021-05-26 03:00:28,511: INFO: worker thread finished; awaiting finish of 18 more threads\n",
      "2021-05-26 03:00:28,524: INFO: worker thread finished; awaiting finish of 17 more threads\n",
      "2021-05-26 03:00:28,527: INFO: worker thread finished; awaiting finish of 16 more threads\n",
      "2021-05-26 03:00:28,539: INFO: worker thread finished; awaiting finish of 15 more threads\n",
      "2021-05-26 03:00:28,543: INFO: worker thread finished; awaiting finish of 14 more threads\n",
      "2021-05-26 03:00:28,544: INFO: worker thread finished; awaiting finish of 13 more threads\n",
      "2021-05-26 03:00:28,545: INFO: worker thread finished; awaiting finish of 12 more threads\n",
      "2021-05-26 03:00:28,546: INFO: worker thread finished; awaiting finish of 11 more threads\n",
      "2021-05-26 03:00:28,557: INFO: worker thread finished; awaiting finish of 10 more threads\n",
      "2021-05-26 03:00:28,559: INFO: worker thread finished; awaiting finish of 9 more threads\n",
      "2021-05-26 03:00:28,562: INFO: worker thread finished; awaiting finish of 8 more threads\n",
      "2021-05-26 03:00:28,565: INFO: worker thread finished; awaiting finish of 7 more threads\n",
      "2021-05-26 03:00:28,566: INFO: worker thread finished; awaiting finish of 6 more threads\n",
      "2021-05-26 03:00:28,569: INFO: worker thread finished; awaiting finish of 5 more threads\n",
      "2021-05-26 03:00:28,576: INFO: worker thread finished; awaiting finish of 4 more threads\n",
      "2021-05-26 03:00:28,578: INFO: worker thread finished; awaiting finish of 3 more threads\n",
      "2021-05-26 03:00:28,580: INFO: worker thread finished; awaiting finish of 2 more threads\n",
      "2021-05-26 03:00:28,580: INFO: worker thread finished; awaiting finish of 1 more threads\n",
      "2021-05-26 03:00:28,581: INFO: worker thread finished; awaiting finish of 0 more threads\n",
      "2021-05-26 03:00:28,582: INFO: EPOCH - 5 : training on 14781499 raw words (13343612 effective words) took 20.5s, 652403 effective words/s\n",
      "2021-05-26 03:00:28,583: INFO: Word2Vec lifecycle event {'msg': 'training on 73907495 raw words (66718210 effective words) took 103.1s, 647125 effective words/s', 'datetime': '2021-05-26T03:00:28.583008', 'gensim': '4.0.1', 'python': '3.8.5 (default, Sep  4 2020, 07:30:14) \\n[GCC 7.3.0]', 'platform': 'Linux-4.4.0-186-generic-x86_64-with-glibc2.10', 'event': 'train'}\n"
     ]
    },
    {
     "name": "stderr",
     "output_type": "stream",
     "text": [
      "2021-05-26 03:00:28,583: INFO: Word2Vec lifecycle event {'params': 'Word2Vec(vocab=50380, vector_size=400, alpha=0.025)', 'datetime': '2021-05-26T03:00:28.583733', 'gensim': '4.0.1', 'python': '3.8.5 (default, Sep  4 2020, 07:30:14) \\n[GCC 7.3.0]', 'platform': 'Linux-4.4.0-186-generic-x86_64-with-glibc2.10', 'event': 'created'}\n",
      "2021-05-26 03:00:28,638: INFO: Word2Vec lifecycle event {'fname_or_handle': './pubmed.model', 'separately': 'None', 'sep_limit': 10485760, 'ignore': frozenset(), 'datetime': '2021-05-26T03:00:28.638933', 'gensim': '4.0.1', 'python': '3.8.5 (default, Sep  4 2020, 07:30:14) \\n[GCC 7.3.0]', 'platform': 'Linux-4.4.0-186-generic-x86_64-with-glibc2.10', 'event': 'saving'}\n",
      "2021-05-26 03:00:28,640: INFO: storing np array 'vectors' to ./pubmed.model.wv.vectors.npy\n",
      "2021-05-26 03:00:28,707: INFO: storing np array 'syn1neg' to ./pubmed.model.syn1neg.npy\n",
      "2021-05-26 03:00:28,762: INFO: not storing attribute cum_table\n",
      "2021-05-26 03:00:28,785: INFO: saved ./pubmed.model\n",
      "2021-05-26 03:00:28,867: INFO: storing 50380x400 projection weights into ./pubmed.vector\n"
     ]
    }
   ],
   "source": [
    "import warnings\n",
    "warnings.filterwarnings(action='ignore', category=UserWarning, module='gensim')# 忽略警告\n",
    "\n",
    "import logging\n",
    "import os.path\n",
    "import sys\n",
    "import multiprocessing\n",
    "\n",
    "from gensim.corpora import WikiCorpus\n",
    "from gensim.models import Word2Vec\n",
    "from gensim.models.word2vec import LineSentence\n",
    "    \n",
    "program = os.path.basename(sys.argv[0])\n",
    "logger = logging.getLogger(program)\n",
    "\n",
    "logging.basicConfig(format='%(asctime)s: %(levelname)s: %(message)s',level=logging.INFO)\n",
    "logger.info(\"running %s\" % ' '.join(sys.argv))\n",
    "\n",
    "# inp为输入语料, outp1 为输出模型, outp2为原始c版本word2vec的vector格式的模型\n",
    "inp = './pubmed_sep.txt'\n",
    "outp1 = './pubmed.model'\n",
    "outp2 = './pubmed.vector'\n",
    "\n",
    "# 训练skip-gram模型\n",
    "model = Word2Vec(LineSentence(inp), vector_size=400, window=5, min_count=5,\n",
    "                 workers=multiprocessing.cpu_count())\n",
    "\n",
    "# 保存模型\n",
    "model.save(outp1)\n",
    "model.wv.save_word2vec_format(outp2, binary=False)"
   ]
  },
  {
   "cell_type": "code",
   "execution_count": 18,
   "metadata": {},
   "outputs": [],
   "source": [
    "import gensim"
   ]
  },
  {
   "cell_type": "code",
   "execution_count": 19,
   "metadata": {},
   "outputs": [
    {
     "name": "stderr",
     "output_type": "stream",
     "text": [
      "2021-05-26 02:55:36,462: INFO: loading projection weights from wiki.vector\n",
      "2021-05-26 02:57:34,985: INFO: KeyedVectors lifecycle event {'msg': 'loaded (291161, 400) matrix of type float32 from wiki.vector', 'binary': False, 'encoding': 'utf8', 'datetime': '2021-05-26T02:57:34.984801', 'gensim': '4.0.1', 'python': '3.8.5 (default, Sep  4 2020, 07:30:14) \\n[GCC 7.3.0]', 'platform': 'Linux-4.4.0-186-generic-x86_64-with-glibc2.10', 'event': 'load_word2vec_format'}\n"
     ]
    }
   ],
   "source": [
    "model = gensim.models.KeyedVectors.load_word2vec_format('wiki.vector', binary=False)"
   ]
  },
  {
   "cell_type": "code",
   "execution_count": 22,
   "metadata": {},
   "outputs": [
    {
     "data": {
      "text/plain": [
       "[('bicycle', 0.7692288160324097),\n",
       " ('motorcycle', 0.645075798034668),\n",
       " ('biking', 0.5875848531723022),\n",
       " ('scooter', 0.5790697932243347),\n",
       " ('bicycling', 0.5657639503479004),\n",
       " ('moped', 0.5506284832954407),\n",
       " ('motorcyclist', 0.5401747226715088),\n",
       " ('motocross', 0.53692227602005),\n",
       " ('bmx', 0.5349506735801697),\n",
       " ('motorbike', 0.5328401923179626)]"
      ]
     },
     "execution_count": 22,
     "metadata": {},
     "output_type": "execute_result"
    }
   ],
   "source": [
    "model.similar_by_word(\"bike\")"
   ]
  },
  {
   "cell_type": "code",
   "execution_count": null,
   "metadata": {},
   "outputs": [],
   "source": []
  },
  {
   "cell_type": "code",
   "execution_count": 26,
   "metadata": {},
   "outputs": [
    {
     "name": "stderr",
     "output_type": "stream",
     "text": [
      "2021-05-26 03:31:27,513: INFO: loading projection weights from ./pubmed.vector\n",
      "2021-05-26 03:31:48,244: INFO: KeyedVectors lifecycle event {'msg': 'loaded (50380, 400) matrix of type float32 from ./pubmed.vector', 'binary': False, 'encoding': 'utf8', 'datetime': '2021-05-26T03:31:48.244272', 'gensim': '4.0.1', 'python': '3.8.5 (default, Sep  4 2020, 07:30:14) \\n[GCC 7.3.0]', 'platform': 'Linux-4.4.0-186-generic-x86_64-with-glibc2.10', 'event': 'load_word2vec_format'}\n"
     ]
    }
   ],
   "source": [
    "import gensim\n",
    "model = gensim.models.KeyedVectors.load_word2vec_format('./pubmed.vector',binary=False)"
   ]
  },
  {
   "cell_type": "code",
   "execution_count": 27,
   "metadata": {},
   "outputs": [
    {
     "data": {
      "text/plain": [
       "[('ocular', 0.588353157043457),\n",
       " ('cornea', 0.5742526054382324),\n",
       " ('fellow', 0.543906569480896),\n",
       " ('glaucomatous', 0.5303398370742798),\n",
       " ('aphakic', 0.5275589227676392),\n",
       " ('lid', 0.5183647274971008),\n",
       " ('lens', 0.516416609287262),\n",
       " ('foveal', 0.5131872296333313),\n",
       " ('eyelid', 0.5113928914070129),\n",
       " ('iris', 0.5095874667167664)]"
      ]
     },
     "execution_count": 27,
     "metadata": {},
     "output_type": "execute_result"
    }
   ],
   "source": [
    "model.similar_by_word('eye')"
   ]
  },
  {
   "cell_type": "code",
   "execution_count": 28,
   "metadata": {},
   "outputs": [
    {
     "data": {
      "text/plain": [
       "[('migraine', 0.791481614112854),\n",
       " ('dizziness', 0.7738164663314819),\n",
       " ('vertigo', 0.7571958899497986),\n",
       " ('hallucination', 0.7446308135986328),\n",
       " ('complained', 0.7372879385948181),\n",
       " ('complaint', 0.7355597019195557),\n",
       " ('nausea', 0.7256589531898499),\n",
       " ('palpitation', 0.7243956923484802),\n",
       " ('neurosis', 0.7237755060195923),\n",
       " ('restlessness', 0.7222596406936646)]"
      ]
     },
     "execution_count": 28,
     "metadata": {},
     "output_type": "execute_result"
    }
   ],
   "source": [
    "model.similar_by_word('headache')"
   ]
  },
  {
   "cell_type": "code",
   "execution_count": 29,
   "metadata": {},
   "outputs": [
    {
     "data": {
      "text/plain": [
       "[('inducing', 0.5138829350471497),\n",
       " ('inducer', 0.5050511360168457),\n",
       " ('induced', 0.4919183552265167),\n",
       " ('suppression', 0.4826423227787018),\n",
       " ('inducible', 0.45676249265670776),\n",
       " ('inducibility', 0.4565184414386749),\n",
       " ('induce', 0.4547732174396515),\n",
       " ('priming', 0.45313555002212524),\n",
       " ('triggering', 0.43927666544914246),\n",
       " ('expression', 0.43342849612236023)]"
      ]
     },
     "execution_count": 29,
     "metadata": {},
     "output_type": "execute_result"
    }
   ],
   "source": [
    "model.similar_by_word('induction')"
   ]
  },
  {
   "cell_type": "code",
   "execution_count": 30,
   "metadata": {},
   "outputs": [
    {
     "data": {
      "text/plain": [
       "[('influence', 0.6521956324577332),\n",
       " ('action', 0.5688385963439941),\n",
       " ('exerted', 0.5100044012069702),\n",
       " ('exerts', 0.46737760305404663),\n",
       " ('potentiation', 0.46187281608581543),\n",
       " ('antagonism', 0.444062739610672),\n",
       " ('synergism', 0.43511271476745605),\n",
       " ('additive', 0.433000385761261),\n",
       " ('stimulatory', 0.4262302815914154),\n",
       " ('enhancement', 0.42510825395584106)]"
      ]
     },
     "execution_count": 30,
     "metadata": {},
     "output_type": "execute_result"
    }
   ],
   "source": [
    "model.similar_by_word(\"effect\")"
   ]
  },
  {
   "cell_type": "code",
   "execution_count": 31,
   "metadata": {},
   "outputs": [
    {
     "data": {
      "text/plain": [
       "[('biophysical', 0.6352120637893677),\n",
       " ('neurochemical', 0.5856583118438721),\n",
       " ('enzymological', 0.5729345679283142),\n",
       " ('morphological', 0.5607656836509705),\n",
       " ('morphologic', 0.555529773235321),\n",
       " ('immunologic', 0.5413727760314941),\n",
       " ('electrophysiologic', 0.5325297713279724),\n",
       " ('haematological', 0.5238599181175232),\n",
       " ('electrophysiological', 0.5199149250984192),\n",
       " ('correlative', 0.5117566585540771)]"
      ]
     },
     "execution_count": 31,
     "metadata": {},
     "output_type": "execute_result"
    }
   ],
   "source": [
    "model.similar_by_word('biochemical')"
   ]
  },
  {
   "cell_type": "markdown",
   "metadata": {},
   "source": [
    " "
   ]
  },
  {
   "cell_type": "code",
   "execution_count": 33,
   "metadata": {},
   "outputs": [
    {
     "data": {
      "text/plain": [
       "[('hormon', 0.6341941952705383),\n",
       " ('thyrotropin', 0.6187419891357422),\n",
       " ('hgh', 0.6035255789756775),\n",
       " ('prolactin', 0.5991007089614868),\n",
       " ('gonadotropin', 0.5789690017700195),\n",
       " ('gh', 0.5696380138397217),\n",
       " ('tsh', 0.5681326389312744),\n",
       " ('prl', 0.5663697719573975),\n",
       " ('calcitonin', 0.5654944181442261),\n",
       " ('gonadotrophin', 0.5604019165039062)]"
      ]
     },
     "execution_count": 33,
     "metadata": {},
     "output_type": "execute_result"
    }
   ],
   "source": [
    "model.similar_by_word('hormone')"
   ]
  },
  {
   "cell_type": "code",
   "execution_count": 34,
   "metadata": {},
   "outputs": [],
   "source": [
    "word_list = ['eye','headache','induction','effect','biochemical','hormone']"
   ]
  },
  {
   "cell_type": "code",
   "execution_count": 35,
   "metadata": {},
   "outputs": [],
   "source": [
    "train_feature=[]\n",
    "for word in word_list:\n",
    "    similar_words = model.similar_by_word(word)\n",
    "    for similar_word in similar_words:\n",
    "        train_feature.append(model.get_vector(similar_word[0]))\n",
    "    train_feature.append(model.get_vector(word))\n",
    "train_feature = np.array(train_feature)"
   ]
  },
  {
   "cell_type": "code",
   "execution_count": 36,
   "metadata": {},
   "outputs": [],
   "source": [
    "from sklearn.cluster import KMeans, MiniBatchKMeans, DBSCAN\n",
    "from sklearn.metrics import silhouette_score ,calinski_harabasz_score,davies_bouldin_score\n",
    "from sklearn.manifold import TSNE"
   ]
  },
  {
   "cell_type": "code",
   "execution_count": 37,
   "metadata": {},
   "outputs": [
    {
     "name": "stdout",
     "output_type": "stream",
     "text": [
      "use normal kmeans with k=6:\n",
      "silhouette_score =  0.2327444\n",
      "calinski_harabasz_score =  9.676143360145554\n",
      "davies_bouldin_score =  1.6460293803439576\n"
     ]
    }
   ],
   "source": [
    "pred_kmeans_20 = KMeans(n_clusters=6, init='k-means++').fit_predict(train_feature)\n",
    "print('use normal kmeans with k=6:')\n",
    "print('silhouette_score = ', silhouette_score(train_feature, pred_kmeans_20))\n",
    "print('calinski_harabasz_score = ', calinski_harabasz_score(train_feature, pred_kmeans_20))\n",
    "print('davies_bouldin_score = ', davies_bouldin_score(train_feature, pred_kmeans_20))"
   ]
  },
  {
   "cell_type": "code",
   "execution_count": 38,
   "metadata": {},
   "outputs": [
    {
     "data": {
      "image/png": "[encoded data removed]",
      "text/plain": [
       "<Figure size 432x288 with 1 Axes>"
      ]
     },
     "metadata": {
      "needs_background": "light"
     },
     "output_type": "display_data"
    }
   ],
   "source": [
    "import matplotlib.pyplot as plt\n",
    "%matplotlib inline\n",
    "\n",
    "X_embedded = TSNE(n_components=2,early_exaggeration=6).fit_transform(train_feature)\n",
    "for i in range(len(X_embedded)):\n",
    "    if pred_kmeans_20[i]==0:\n",
    "        plt.scatter(X_embedded[i][0],X_embedded[i][1],c='r')\n",
    "    elif pred_kmeans_20[i]==1:\n",
    "        plt.scatter(X_embedded[i][0],X_embedded[i][1],c='b')\n",
    "    elif pred_kmeans_20[i]==2:\n",
    "        plt.scatter(X_embedded[i][0],X_embedded[i][1],c='g')\n",
    "    elif pred_kmeans_20[i]==3:\n",
    "        plt.scatter(X_embedded[i][0],X_embedded[i][1],c='y')\n",
    "    elif pred_kmeans_20[i]==4:\n",
    "        plt.scatter(X_embedded[i][0],X_embedded[i][1],c='k')\n",
    "    elif pred_kmeans_20[i]==5:\n",
    "        plt.scatter(X_embedded[i][0],X_embedded[i][1],c='m')\n",
    "        \n",
    "plt.show()"
   ]
  },
  {
   "cell_type": "code",
   "execution_count": 134,
   "metadata": {},
   "outputs": [
    {
     "name": "stdout",
     "output_type": "stream",
     "text": [
      "use minibatch kmeans with batch=1000:\n",
      "silhouette_score =  0.23838435\n",
      "calinski_harabasz_score =  14.995393258072076\n",
      "davies_bouldin_score =  1.3988289061663408\n",
      "use minibatch kmeans with batch=1500:\n",
      "silhouette_score =  0.28567255\n",
      "calinski_harabasz_score =  17.356873622236673\n",
      "davies_bouldin_score =  1.3262099959112683\n",
      "use minibatch kmeans with batch=2000:\n",
      "silhouette_score =  0.26255274\n",
      "calinski_harabasz_score =  16.522001121104886\n",
      "davies_bouldin_score =  1.3715271702770566\n",
      "use minibatch kmeans with batch=3000:\n",
      "silhouette_score =  0.27011454\n",
      "calinski_harabasz_score =  17.10502376050917\n",
      "davies_bouldin_score =  1.361862517443534\n"
     ]
    }
   ],
   "source": [
    "pred_minibatch_1000 = MiniBatchKMeans(n_clusters=6, init='k-means++', batch_size=5).fit_predict(train_feature)\n",
    "print('use minibatch kmeans with batch=1000:')\n",
    "print('silhouette_score = ', silhouette_score(train_feature, pred_minibatch_1000))\n",
    "print('calinski_harabasz_score = ', calinski_harabasz_score(train_feature, pred_minibatch_1000))\n",
    "print('davies_bouldin_score = ', davies_bouldin_score(train_feature, pred_minibatch_1000))\n",
    "\n",
    "pred_minibatch_1500 = MiniBatchKMeans(n_clusters=6, init='k-means++', batch_size=10).fit_predict(train_feature)\n",
    "print('use minibatch kmeans with batch=1500:')\n",
    "print('silhouette_score = ', silhouette_score(train_feature, pred_minibatch_1500))\n",
    "print('calinski_harabasz_score = ', calinski_harabasz_score(train_feature, pred_minibatch_1500))\n",
    "print('davies_bouldin_score = ', davies_bouldin_score(train_feature, pred_minibatch_1500))\n",
    "\n",
    "pred_minibatch_2000 = MiniBatchKMeans(n_clusters=6, init='k-means++', batch_size=15).fit_predict(train_feature)\n",
    "print('use minibatch kmeans with batch=2000:')\n",
    "print('silhouette_score = ', silhouette_score(train_feature, pred_minibatch_2000))\n",
    "print('calinski_harabasz_score = ', calinski_harabasz_score(train_feature, pred_minibatch_2000))\n",
    "print('davies_bouldin_score = ', davies_bouldin_score(train_feature, pred_minibatch_2000))\n",
    "\n",
    "pred_minibatch_3000 = MiniBatchKMeans(n_clusters=6, init='k-means++', batch_size=1).fit_predict(train_feature)\n",
    "print('use minibatch kmeans with batch=3000:')\n",
    "print('silhouette_score = ', silhouette_score(train_feature, pred_minibatch_3000))\n",
    "print('calinski_harabasz_score = ', calinski_harabasz_score(train_feature, pred_minibatch_3000))\n",
    "print('davies_bouldin_score = ', davies_bouldin_score(train_feature, pred_minibatch_3000))"
   ]
  },
  {
   "cell_type": "code",
   "execution_count": null,
   "metadata": {},
   "outputs": [],
   "source": []
  }
 ],
 "metadata": {
  "kernelspec": {
   "display_name": "nlp",
   "language": "python",
   "name": "nlp"
  },
  "language_info": {
   "codemirror_mode": {
    "name": "ipython",
    "version": 3
   },
   "file_extension": ".py",
   "mimetype": "text/x-python",
   "name": "python",
   "nbconvert_exporter": "python",
   "pygments_lexer": "ipython3",
   "version": "3.8.5"
  }
 },
 "nbformat": 4,
 "nbformat_minor": 4
}
