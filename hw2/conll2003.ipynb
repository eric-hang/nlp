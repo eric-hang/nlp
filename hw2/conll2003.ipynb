{
 "cells": [
  {
   "cell_type": "code",
   "execution_count": null,
   "metadata": {
    "ExecuteTime": {
     "start_time": "2021-06-08T11:14:49.278Z"
    },
    "colab": {
     "base_uri": "https://localhost:8080/"
    },
    "id": "hzAlF42NwwK4",
    "outputId": "3886289c-dd58-49bc-91e6-d6d0a1f1dec8"
   },
   "outputs": [],
   "source": [
    "import os\n",
    "import time\n",
    "import numpy as np\n",
    "from tqdm import tqdm, trange\n",
    "import codecs\n",
    "import torch\n",
    "from torch.utils.data import TensorDataset, DataLoader, RandomSampler, SequentialSampler\n",
    "from transformers import BertTokenizer, BertConfig\n",
    "import transformers\n",
    "from transformers import BertForTokenClassification, AdamW\n",
    "from transformers import get_linear_schedule_with_warmup\n",
    "from seqeval.metrics import f1_score, accuracy_score, precision_score, recall_score, classification_report"
   ]
  },
  {
   "cell_type": "markdown",
   "metadata": {
    "id": "6pccQ_qmwwK9"
   },
   "source": [
    "设置数据路径"
   ]
  },
  {
   "cell_type": "code",
   "execution_count": null,
   "metadata": {
    "ExecuteTime": {
     "start_time": "2021-06-08T11:14:49.769Z"
    },
    "colab": {
     "base_uri": "https://localhost:8080/"
    },
    "id": "fzIIDcB-wwK-",
    "outputId": "624c6740-a08c-44f3-c242-26e00649655b"
   },
   "outputs": [],
   "source": [
    "data_path = './CONLL2003/'\n",
    "\n",
    "fnames = os.listdir(data_path)\n",
    "fnames.sort()\n",
    "\n",
    "data_files = []\n",
    "for f in fnames:\n",
    "    data_files.append(os.path.join(data_path, f))"
   ]
  },
  {
   "cell_type": "code",
   "execution_count": null,
   "metadata": {
    "ExecuteTime": {
     "start_time": "2021-06-08T11:14:49.925Z"
    },
    "colab": {
     "base_uri": "https://localhost:8080/"
    },
    "id": "PJHWMoKTwwLD",
    "outputId": "0cf974ca-1b2c-4a22-d588-76ebc37f638d"
   },
   "outputs": [],
   "source": [
    "word_count = {}\n",
    "tag_count = {}\n",
    "word_train = []\n",
    "train_tag = []\n",
    "word_val = []\n",
    "val_tag = []\n",
    "word_test = []\n",
    "test_tag = []\n",
    "corpus_dic = {'word_test': word_test, 'test_tag': test_tag, \n",
    "              'word_val': word_val, 'val_tag': val_tag, \n",
    "              'word_train': word_train, 'train_tag': train_tag}\n",
    "corpus_list = ['word_test', 'test_tag', 'word_train', \n",
    "               'train_tag', 'word_val', 'val_tag']"
   ]
  },
  {
   "cell_type": "markdown",
   "metadata": {
    "id": "4qKAAryGwwLH"
   },
   "source": [
    "数据处理"
   ]
  },
  {
   "cell_type": "code",
   "execution_count": null,
   "metadata": {
    "ExecuteTime": {
     "start_time": "2021-06-08T11:14:50.221Z"
    },
    "id": "HqToPglIwwLI"
   },
   "outputs": [],
   "source": [
    "for i, f in enumerate(data_files):\n",
    "    with codecs.open(f, encoding='utf-8') as fid:\n",
    "        for l in fid:\n",
    "            if l == '\\r\\n' or l == '\\n': continue\n",
    "                \n",
    "            l = l.replace('\\r\\n', '')\n",
    "            t = l.split()\n",
    "            corpus_dic[corpus_list[2*i]].append(t[0])\n",
    "            corpus_dic[corpus_list[2*i+1]].append(t[1])"
   ]
  },
  {
   "cell_type": "code",
   "execution_count": null,
   "metadata": {
    "ExecuteTime": {
     "start_time": "2021-06-08T11:14:50.363Z"
    },
    "id": "hkobSDoqwwLM"
   },
   "outputs": [],
   "source": [
    "for i in range(len(data_files)):\n",
    "    for w in corpus_dic[corpus_list[2*i]]:\n",
    "        if w in word_count:\n",
    "            word_count[w] += 1\n",
    "        else:\n",
    "            word_count[w] = 1\n",
    "    \n",
    "    for t in corpus_dic[corpus_list[2*i+1]]:\n",
    "        if t in tag_count:\n",
    "            tag_count[t] += 1\n",
    "        else:\n",
    "            tag_count[t] = 1"
   ]
  },
  {
   "cell_type": "code",
   "execution_count": null,
   "metadata": {
    "ExecuteTime": {
     "start_time": "2021-06-08T11:14:50.646Z"
    },
    "id": "-VAaQ_cNwwLU"
   },
   "outputs": [],
   "source": [
    "wcounts = list(word_count.items())\n",
    "wcounts.sort(key=lambda x: x[1], reverse=True)\n",
    "word_sorted = [w[0] for w in wcounts]\n",
    "word_index = dict(list(zip(word_sorted, list(range(1, len(word_count) + 1)))))\n",
    "word_index['PAD'] = 0\n",
    "word_index['UNK'] = len(word_index)"
   ]
  },
  {
   "cell_type": "markdown",
   "metadata": {
    "id": "DttCzD9hwwLY"
   },
   "source": [
    "保存标签与数值标签的映射"
   ]
  },
  {
   "cell_type": "code",
   "execution_count": null,
   "metadata": {
    "ExecuteTime": {
     "start_time": "2021-06-08T11:14:50.933Z"
    },
    "id": "xrqx8UXYwwLa"
   },
   "outputs": [],
   "source": [
    "tag_index = {t[0]: i for i, t in enumerate(list(tag_count.items()))}\n",
    "index_tag = {i: t[0] for i, t in enumerate(list(tag_count.items()))}"
   ]
  },
  {
   "cell_type": "markdown",
   "metadata": {
    "id": "jihmMKPPwwLe"
   },
   "source": [
    "增加PAD这一Label"
   ]
  },
  {
   "cell_type": "code",
   "execution_count": null,
   "metadata": {
    "ExecuteTime": {
     "start_time": "2021-06-08T11:14:51.237Z"
    },
    "id": "N7N52HCowwLe"
   },
   "outputs": [],
   "source": [
    "tag_index['PAD'] = len(tag_count)\n",
    "index_tag[len(tag_count)] = 'PAD'"
   ]
  },
  {
   "cell_type": "code",
   "execution_count": null,
   "metadata": {
    "ExecuteTime": {
     "start_time": "2021-06-08T11:14:51.385Z"
    },
    "colab": {
     "base_uri": "https://localhost:8080/"
    },
    "id": "pQl-xUhgwwLq",
    "outputId": "c75fce72-9fe8-4bce-9df8-ea5af907e17a"
   },
   "outputs": [],
   "source": [
    "train_sent = []\n",
    "train_tag = []\n",
    "val_sent = []\n",
    "val_tag = []\n",
    "test_sent = []\n",
    "test_tag = []\n",
    "sentences_corpus = {'test_sent': test_sent, 'test_tag': test_tag, \n",
    "                    'val_sent': val_sent, 'val_tag': val_tag, \n",
    "                    'train_sent': train_sent, 'train_tag': train_tag}\n",
    "sent_corpus_list = ['test_sent', 'test_tag', \n",
    "                    'train_sent', 'train_tag',\n",
    "                    'val_sent', 'val_tag']"
   ]
  },
  {
   "cell_type": "markdown",
   "metadata": {
    "id": "J4A7pTc-wwLu"
   },
   "source": [
    "读取数据"
   ]
  },
  {
   "cell_type": "code",
   "execution_count": null,
   "metadata": {
    "ExecuteTime": {
     "start_time": "2021-06-08T11:14:51.689Z"
    },
    "id": "QHAc-Z35wwLv"
   },
   "outputs": [],
   "source": [
    "for i, f in enumerate(data_files):\n",
    "    sent = []\n",
    "    tag = []\n",
    "    for l in open(f):\n",
    "        if l in ['\\n', '\\r\\n']:\n",
    "            sentences_corpus[sent_corpus_list[2*i]].append(sent)\n",
    "            sentences_corpus[sent_corpus_list[2*i+1]].append(tag)\n",
    "            sent = []\n",
    "            tag = []\n",
    "        else:\n",
    "            t = l.replace('\\r\\n', '').split()\n",
    "            sent.append(t[0])\n",
    "            tag.append(t[1])"
   ]
  },
  {
   "cell_type": "code",
   "execution_count": null,
   "metadata": {
    "ExecuteTime": {
     "start_time": "2021-06-08T11:14:52.282Z"
    },
    "colab": {
     "base_uri": "https://localhost:8080/"
    },
    "id": "6FvmotXuwwL8",
    "outputId": "583dc3f8-d580-44db-efe4-8f9c57d0301e"
   },
   "outputs": [],
   "source": [
    "device = torch.device(\"cuda:0\" if torch.cuda.is_available() else \"cpu\")"
   ]
  },
  {
   "cell_type": "code",
   "execution_count": null,
   "metadata": {
    "ExecuteTime": {
     "start_time": "2021-06-08T11:14:52.931Z"
    },
    "colab": {
     "base_uri": "https://localhost:8080/",
     "height": 66,
     "referenced_widgets": [
      "0cd3614e1ec9490d9b7b1807e5b29b1e",
      "f0b1bc404aa0440cb4e4b3dab3c66274",
      "1bbcb53887bc4312ab8bae04ffaced41",
      "b9de47b549654866bfb7f76f6fcb5d7a",
      "371c6611cc3640688ad1e7654122239c",
      "febb5ed476184e7699bf6455143fca73",
      "2b1bb4fb469c4d9b8cfc3893861b56e4",
      "2773b90727244b9a83ff76389cc853aa"
     ]
    },
    "id": "ies0epTCwwME",
    "outputId": "24c8108e-7492-44ab-e813-6928fc93164e"
   },
   "outputs": [],
   "source": [
    "tokenizer = BertTokenizer.from_pretrained('bert-base-cased', do_lower_case=False)"
   ]
  },
  {
   "cell_type": "code",
   "execution_count": null,
   "metadata": {
    "ExecuteTime": {
     "start_time": "2021-06-08T11:14:59.091Z"
    },
    "colab": {
     "base_uri": "https://localhost:8080/",
     "height": 218,
     "referenced_widgets": [
      "5c5fa0538576441cbb500e4579c4dbb4",
      "6788354a22ae4ddea1494ff20464e705",
      "f955795e55ef4c32b94dd6a9b91aeda2",
      "11fe54802a5e46c5ad8e3f1f0bd04e7d",
      "9f7d6674a309468d832a23302e53223e",
      "efbc636990ca4236ac236b2613c579d6",
      "4af2bd32633d4a649769b1901758afc5",
      "145b18b51c6443dab0a09d8d904aced2",
      "033714aa3708478e9ea79e17bfc5eb66",
      "60406a6fa2f5485796b4b34cc4a1076f",
      "50339db0142746eabbba24bb6934ee39",
      "b9af4581facb4502b0f59b8aa4fd131e",
      "977994e73b274db69557fe785467bbcb",
      "158d4682fcfe467f808f6388e73a3f41",
      "6859af9de0954420814b15fe47e71da9",
      "a5dba229e6b84555abd93bafa1dcc046"
     ]
    },
    "id": "mzhgWF34wwNI",
    "outputId": "b524b393-df73-4821-d3b2-ca1149f80149"
   },
   "outputs": [],
   "source": [
    "ner_model = BertForTokenClassification.from_pretrained(\n",
    "    \"bert-base-cased\",\n",
    "    num_labels=len(tag_index),\n",
    "    output_attentions = False,\n",
    "    output_hidden_states = False\n",
    ")"
   ]
  },
  {
   "cell_type": "markdown",
   "metadata": {
    "id": "N4tSY16jwwMH"
   },
   "source": [
    "对输入数据进行分词"
   ]
  },
  {
   "cell_type": "code",
   "execution_count": null,
   "metadata": {
    "ExecuteTime": {
     "start_time": "2021-06-08T11:14:53.241Z"
    },
    "id": "L_NjGYDswwMI"
   },
   "outputs": [],
   "source": [
    "def tokenize_and_preserve_tags(sentence, sent_tags):\n",
    "    tokenized_sentence = []\n",
    "    tags = []\n",
    "    n_tokens = []\n",
    "\n",
    "    for w, t in zip(sentence, sent_tags):\n",
    "\n",
    "        # Tokenize the word and count # of subwords the word is broken into\n",
    "        tokenized_word = tokenizer.tokenize(w)\n",
    "        n_subwords = len(tokenized_word)\n",
    "        n_tokens.append(n_subwords)\n",
    "\n",
    "        # Add the tokenized word to the final tokenized word list\n",
    "        tokenized_sentence.extend(tokenized_word)\n",
    "\n",
    "        # Add the same label to the new list of labels b`n_subwords` times\n",
    "        tags.extend([t] * n_subwords)\n",
    "\n",
    "    return tokenized_sentence, tags, n_tokens"
   ]
  },
  {
   "cell_type": "code",
   "execution_count": null,
   "metadata": {
    "ExecuteTime": {
     "start_time": "2021-06-08T11:14:53.749Z"
    },
    "id": "PnwvsMfDwwMN"
   },
   "outputs": [],
   "source": [
    "train_tokenized_sents_and_tags = [\n",
    "    tokenize_and_preserve_tags(sent, tag)\n",
    "    for sent, tag in zip(sentences_corpus['train_sent'], sentences_corpus['train_tag'])\n",
    "]"
   ]
  },
  {
   "cell_type": "markdown",
   "metadata": {
    "id": "giaP5aQ0wwMV"
   },
   "source": [
    "将数据集分为数据，标签，分词数量"
   ]
  },
  {
   "cell_type": "code",
   "execution_count": null,
   "metadata": {
    "ExecuteTime": {
     "start_time": "2021-06-08T11:14:54.543Z"
    },
    "id": "DLp24828wwMW"
   },
   "outputs": [],
   "source": [
    "train_tokenized_texts = [token_label_pair[0] for token_label_pair in train_tokenized_sents_and_tags]\n",
    "train_labels = [token_label_pair[1] for token_label_pair in train_tokenized_sents_and_tags]\n",
    "num_tokens = [token_label_pair[2] for token_label_pair in train_tokenized_sents_and_tags]"
   ]
  },
  {
   "cell_type": "code",
   "execution_count": null,
   "metadata": {
    "ExecuteTime": {
     "start_time": "2021-06-08T11:14:55.065Z"
    }
   },
   "outputs": [],
   "source": [
    "train_input_ids = []\n",
    "train_attention_masks = []\n",
    "train_tags = []\n",
    "for i in range(len(train_tokenized_texts)):\n",
    "    temp = tokenizer.encode_plus(train_tokenized_texts[i],add_special_tokens=True,max_length=128, pad_to_max_length=True)\n",
    "    train_input_ids.append(temp['input_ids'])\n",
    "    train_attention_masks.append(temp['attention_mask'])\n",
    "    temp_tag = [tag_index.get(l) for l in train_labels[i]]\n",
    "    for i in range(len(temp_tag),128):\n",
    "        temp_tag.append(tag_index['PAD'])\n",
    "    if len(temp_tag)>128:\n",
    "        temp_tag = temp_tag[:128]\n",
    "    train_tags.append(temp_tag)"
   ]
  },
  {
   "cell_type": "code",
   "execution_count": null,
   "metadata": {
    "ExecuteTime": {
     "start_time": "2021-06-08T11:14:56.084Z"
    },
    "id": "_AZf-CajwwMt"
   },
   "outputs": [],
   "source": [
    "val_tokenized_sents_and_tags = [\n",
    "    tokenize_and_preserve_tags(sent, tag)\n",
    "    for sent, tag in zip(sentences_corpus['val_sent'], sentences_corpus['val_tag'])\n",
    "]"
   ]
  },
  {
   "cell_type": "code",
   "execution_count": null,
   "metadata": {
    "ExecuteTime": {
     "start_time": "2021-06-08T11:14:56.375Z"
    },
    "id": "7Yu029qWwwMw"
   },
   "outputs": [],
   "source": [
    "val_tokenized_texts = [token_label_pair[0] for token_label_pair in val_tokenized_sents_and_tags]\n",
    "val_labels = [token_label_pair[1] for token_label_pair in val_tokenized_sents_and_tags]"
   ]
  },
  {
   "cell_type": "code",
   "execution_count": null,
   "metadata": {
    "ExecuteTime": {
     "start_time": "2021-06-08T11:14:56.611Z"
    }
   },
   "outputs": [],
   "source": [
    "val_input_ids = []\n",
    "val_attention_masks = []\n",
    "val_tags = []\n",
    "for i in range(len(val_tokenized_texts)):\n",
    "    temp = tokenizer.encode_plus(val_tokenized_texts[i],add_special_tokens=True,max_length=128, pad_to_max_length=True)\n",
    "    val_input_ids.append(temp['input_ids'])\n",
    "    val_attention_masks.append(temp['attention_mask'])\n",
    "    temp_tag = [tag_index.get(l) for l in val_labels[i]]\n",
    "    for i in range(len(temp_tag),128):\n",
    "        temp_tag.append(tag_index['PAD'])\n",
    "    if len(temp_tag)>128:\n",
    "        temp_tag = temp_tag[:128]\n",
    "    val_tags.append(temp_tag)"
   ]
  },
  {
   "cell_type": "markdown",
   "metadata": {
    "id": "PI8LUAXnwwM6"
   },
   "source": [
    "构建DataSet与DataLoader"
   ]
  },
  {
   "cell_type": "code",
   "execution_count": null,
   "metadata": {
    "ExecuteTime": {
     "start_time": "2021-06-08T11:14:57.367Z"
    },
    "id": "1dhsX_lowwM9"
   },
   "outputs": [],
   "source": [
    "train_inputs = torch.tensor(train_input_ids)\n",
    "val_inputs = torch.tensor(val_input_ids)\n",
    "train_tags = torch.tensor(train_tags)\n",
    "val_tags = torch.tensor(val_tags)\n",
    "train_masks = torch.tensor(train_attention_masks)\n",
    "val_masks = torch.tensor(val_attention_masks)"
   ]
  },
  {
   "cell_type": "code",
   "execution_count": null,
   "metadata": {
    "ExecuteTime": {
     "start_time": "2021-06-08T11:14:58.177Z"
    },
    "id": "s73ngON3wwNA"
   },
   "outputs": [],
   "source": [
    "batch_size = 4\n",
    "training_data = TensorDataset(train_inputs, train_masks, train_tags)\n",
    "training_sampler = RandomSampler(training_data)\n",
    "training_dataloader = DataLoader(training_data, sampler=training_sampler, batch_size=batch_size)\n",
    "\n",
    "valid_data = TensorDataset(val_inputs, val_masks, val_tags)\n",
    "valid_sampler = SequentialSampler(valid_data)\n",
    "valid_dataloader = DataLoader(valid_data, sampler=valid_sampler, batch_size=batch_size)"
   ]
  },
  {
   "cell_type": "code",
   "execution_count": null,
   "metadata": {
    "ExecuteTime": {
     "start_time": "2021-06-08T11:14:59.613Z"
    },
    "id": "hrlh_H3rwwNM"
   },
   "outputs": [],
   "source": [
    "ner_model.to('cuda:0');"
   ]
  },
  {
   "cell_type": "markdown",
   "metadata": {
    "id": "42AULVb6wwNQ"
   },
   "source": [
    "对预训练模型进行finetune，设置优化器"
   ]
  },
  {
   "cell_type": "code",
   "execution_count": null,
   "metadata": {
    "ExecuteTime": {
     "start_time": "2021-06-08T11:15:00.491Z"
    },
    "id": "VPtZOkvmwwNQ"
   },
   "outputs": [],
   "source": [
    "FULL_FINETUNING = True\n",
    "if FULL_FINETUNING:\n",
    "    param_optimizer = list(ner_model.named_parameters())\n",
    "    no_decay = ['bias', 'gamma', 'beta']\n",
    "    optimizer_grouped_parameters = [\n",
    "        {'params': [p for n, p in param_optimizer if not any(nd in n for nd in no_decay)],\n",
    "         'weight_decay_rate': 0.01},\n",
    "        {'params': [p for n, p in param_optimizer if any(nd in n for nd in no_decay)],\n",
    "         'weight_decay_rate': 0.0}\n",
    "    ]\n",
    "else:\n",
    "    param_optimizer = list(ner_model.classifier.named_parameters())\n",
    "    optimizer_grouped_parameters = [{\"params\": [p for n, p in param_optimizer]}]\n",
    "\n",
    "optimizer = AdamW(\n",
    "    optimizer_grouped_parameters,\n",
    "    lr=3e-5,\n",
    "    eps=1e-8\n",
    ")"
   ]
  },
  {
   "cell_type": "code",
   "execution_count": null,
   "metadata": {
    "ExecuteTime": {
     "start_time": "2021-06-08T11:15:01.645Z"
    },
    "id": "vSTHE2eCwwNV"
   },
   "outputs": [],
   "source": [
    "epochs = 4\n",
    "max_grad_norm = 1.0\n",
    "\n",
    "# Total number of training steps is number of batches * number of epochs.\n",
    "total_steps = len(training_dataloader) * epochs\n",
    "\n",
    "# Create the learning rate scheduler.\n",
    "scheduler = get_linear_schedule_with_warmup(\n",
    "    optimizer,\n",
    "    num_warmup_steps=0,\n",
    "    num_training_steps=total_steps\n",
    ")"
   ]
  },
  {
   "cell_type": "code",
   "execution_count": null,
   "metadata": {
    "ExecuteTime": {
     "start_time": "2021-06-08T11:15:04.777Z"
    },
    "colab": {
     "base_uri": "https://localhost:8080/"
    },
    "id": "4nILbHiYwwNe",
    "outputId": "c9b9e728-0bb5-4f86-955f-097787cd5671"
   },
   "outputs": [],
   "source": [
    "loss_values, validation_loss_values = [], []\n",
    "\n",
    "for _ in range(epochs):\n",
    "    ner_model.train()\n",
    "    total_loss = 0\n",
    "\n",
    "    # Training loop\n",
    "    for batch in tqdm(training_dataloader):\n",
    "        # add batch to device (gpu or cpu)\n",
    "        batch = tuple(t.to(device) for t in batch)\n",
    "        b_input_ids, b_input_mask, b_labels = batch\n",
    "        # reset gradients before performing a backward pass.\n",
    "        ner_model.zero_grad()\n",
    "        # forward pass, get the training loss\n",
    "        outputs = ner_model(b_input_ids, token_type_ids=None,\n",
    "                        attention_mask=b_input_mask, labels=b_labels)\n",
    "        # get the training loss\n",
    "        loss = outputs[0]\n",
    "        # Perform a backward pass to calculate the gradients.\n",
    "        loss.backward()\n",
    "        total_loss += loss.item()\n",
    "        # Clip the norm of the gradient to prevent from the \"exploding gradients\" problem.\n",
    "        torch.nn.utils.clip_grad_norm_(parameters=ner_model.parameters(), max_norm=max_grad_norm)\n",
    "        # update parameters\n",
    "        optimizer.step()\n",
    "        # Update the learning rate.\n",
    "        scheduler.step()\n",
    "\n",
    "    # Calculate the average loss over the training data.\n",
    "    avg_train_loss = total_loss / len(training_dataloader)\n",
    "    print(\"Average train loss: {}\".format(avg_train_loss))\n",
    "\n",
    "    # Store the loss value for plotting the learning curve.\n",
    "    loss_values.append(avg_train_loss)\n",
    "\n",
    "    ner_model.eval()\n",
    "    # Reset the validation loss\n",
    "    eval_loss, eval_accuracy = 0, 0\n",
    "    nb_eval_steps, nb_eval_examples = 0, 0\n",
    "    predictions , true_labels = [], []\n",
    "    for batch in valid_dataloader:\n",
    "        batch = tuple(t.to(device) for t in batch)\n",
    "        b_input_ids, b_input_mask, b_labels = batch\n",
    "\n",
    "        with torch.no_grad():\n",
    "            # Forward pass, calculate the predicted logits\n",
    "            outputs = ner_model(b_input_ids, token_type_ids=None,\n",
    "                            attention_mask=b_input_mask, labels=b_labels)\n",
    "        # Move logits and labels to CPU\n",
    "        logits = outputs[1].detach().cpu().numpy()\n",
    "        label_ids = b_labels.to('cpu').numpy()\n",
    "\n",
    "        # Calculate the accuracy for this batch of test sentences.\n",
    "        eval_loss += outputs[0].mean().item()\n",
    "        predictions.extend([list(p) for p in np.argmax(logits, axis=2)])\n",
    "        true_labels.extend(label_ids)\n",
    "\n",
    "    eval_loss = eval_loss / len(valid_dataloader)\n",
    "    validation_loss_values.append(eval_loss)\n",
    "    print(\"Validation loss: {}\".format(eval_loss))\n",
    "    \n",
    "    pred_tags = []\n",
    "    valid_tags = []\n",
    "    for p, l in zip(predictions, true_labels):\n",
    "        preds = []\n",
    "        labs = []\n",
    "        for p_i, l_i in zip(p, l):\n",
    "            if index_tag[l_i] != \"PAD\":\n",
    "                preds.append(index_tag[p_i])\n",
    "                labs.append(index_tag[l_i])\n",
    "        pred_tags.append(preds)\n",
    "        valid_tags.append(labs)\n",
    "    \n",
    "    print(\"Validation Precision: {}\".format(precision_score(valid_tags, pred_tags)))\n",
    "    print(\"Validation Recall: {}\".format(recall_score(valid_tags, pred_tags)))\n",
    "    print(\"Validation Accuracy: {}\".format(accuracy_score(valid_tags, pred_tags)))\n",
    "    print(\"Validation F1-Score: {}\".format(f1_score(valid_tags, pred_tags)))\n",
    "    print(\"Report: {}\".format(classification_report(valid_tags, pred_tags)))\n",
    "    print()"
   ]
  }
 ],
 "metadata": {
  "accelerator": "GPU",
  "colab": {
   "name": "109582012_HW2.ipynb",
   "provenance": []
  },
  "kernelspec": {
   "display_name": "graph",
   "language": "python",
   "name": "graph"
  },
  "language_info": {
   "codemirror_mode": {
    "name": "ipython",
    "version": 3
   },
   "file_extension": ".py",
   "mimetype": "text/x-python",
   "name": "python",
   "nbconvert_exporter": "python",
   "pygments_lexer": "ipython3",
   "version": "3.7.10"
  },
  "varInspector": {
   "cols": {
    "lenName": 16,
    "lenType": 16,
    "lenVar": 40
   },
   "kernels_config": {
    "python": {
     "delete_cmd_postfix": "",
     "delete_cmd_prefix": "del ",
     "library": "var_list.py",
     "varRefreshCmd": "print(var_dic_list())"
    },
    "r": {
     "delete_cmd_postfix": ") ",
     "delete_cmd_prefix": "rm(",
     "library": "var_list.r",
     "varRefreshCmd": "cat(var_dic_list()) "
    }
   },
   "types_to_exclude": [
    "module",
    "function",
    "builtin_function_or_method",
    "instance",
    "_Feature"
   ],
   "window_display": false
  },
  "widgets": {
   "application/vnd.jupyter.widget-state+json": {
    "033714aa3708478e9ea79e17bfc5eb66": {
     "model_module": "@jupyter-widgets/controls",
     "model_name": "HBoxModel",
     "state": {
      "_dom_classes": [],
      "_model_module": "@jupyter-widgets/controls",
      "_model_module_version": "1.5.0",
      "_model_name": "HBoxModel",
      "_view_count": null,
      "_view_module": "@jupyter-widgets/controls",
      "_view_module_version": "1.5.0",
      "_view_name": "HBoxView",
      "box_style": "",
      "children": [
       "IPY_MODEL_50339db0142746eabbba24bb6934ee39",
       "IPY_MODEL_b9af4581facb4502b0f59b8aa4fd131e"
      ],
      "layout": "IPY_MODEL_60406a6fa2f5485796b4b34cc4a1076f"
     }
    },
    "0cd3614e1ec9490d9b7b1807e5b29b1e": {
     "model_module": "@jupyter-widgets/controls",
     "model_name": "HBoxModel",
     "state": {
      "_dom_classes": [],
      "_model_module": "@jupyter-widgets/controls",
      "_model_module_version": "1.5.0",
      "_model_name": "HBoxModel",
      "_view_count": null,
      "_view_module": "@jupyter-widgets/controls",
      "_view_module_version": "1.5.0",
      "_view_name": "HBoxView",
      "box_style": "",
      "children": [
       "IPY_MODEL_1bbcb53887bc4312ab8bae04ffaced41",
       "IPY_MODEL_b9de47b549654866bfb7f76f6fcb5d7a"
      ],
      "layout": "IPY_MODEL_f0b1bc404aa0440cb4e4b3dab3c66274"
     }
    },
    "11fe54802a5e46c5ad8e3f1f0bd04e7d": {
     "model_module": "@jupyter-widgets/controls",
     "model_name": "HTMLModel",
     "state": {
      "_dom_classes": [],
      "_model_module": "@jupyter-widgets/controls",
      "_model_module_version": "1.5.0",
      "_model_name": "HTMLModel",
      "_view_count": null,
      "_view_module": "@jupyter-widgets/controls",
      "_view_module_version": "1.5.0",
      "_view_name": "HTMLView",
      "description": "",
      "description_tooltip": null,
      "layout": "IPY_MODEL_145b18b51c6443dab0a09d8d904aced2",
      "placeholder": "​",
      "style": "IPY_MODEL_4af2bd32633d4a649769b1901758afc5",
      "value": " 433/433 [00:07&lt;00:00, 57.9B/s]"
     }
    },
    "145b18b51c6443dab0a09d8d904aced2": {
     "model_module": "@jupyter-widgets/base",
     "model_name": "LayoutModel",
     "state": {
      "_model_module": "@jupyter-widgets/base",
      "_model_module_version": "1.2.0",
      "_model_name": "LayoutModel",
      "_view_count": null,
      "_view_module": "@jupyter-widgets/base",
      "_view_module_version": "1.2.0",
      "_view_name": "LayoutView",
      "align_content": null,
      "align_items": null,
      "align_self": null,
      "border": null,
      "bottom": null,
      "display": null,
      "flex": null,
      "flex_flow": null,
      "grid_area": null,
      "grid_auto_columns": null,
      "grid_auto_flow": null,
      "grid_auto_rows": null,
      "grid_column": null,
      "grid_gap": null,
      "grid_row": null,
      "grid_template_areas": null,
      "grid_template_columns": null,
      "grid_template_rows": null,
      "height": null,
      "justify_content": null,
      "justify_items": null,
      "left": null,
      "margin": null,
      "max_height": null,
      "max_width": null,
      "min_height": null,
      "min_width": null,
      "object_fit": null,
      "object_position": null,
      "order": null,
      "overflow": null,
      "overflow_x": null,
      "overflow_y": null,
      "padding": null,
      "right": null,
      "top": null,
      "visibility": null,
      "width": null
     }
    },
    "158d4682fcfe467f808f6388e73a3f41": {
     "model_module": "@jupyter-widgets/base",
     "model_name": "LayoutModel",
     "state": {
      "_model_module": "@jupyter-widgets/base",
      "_model_module_version": "1.2.0",
      "_model_name": "LayoutModel",
      "_view_count": null,
      "_view_module": "@jupyter-widgets/base",
      "_view_module_version": "1.2.0",
      "_view_name": "LayoutView",
      "align_content": null,
      "align_items": null,
      "align_self": null,
      "border": null,
      "bottom": null,
      "display": null,
      "flex": null,
      "flex_flow": null,
      "grid_area": null,
      "grid_auto_columns": null,
      "grid_auto_flow": null,
      "grid_auto_rows": null,
      "grid_column": null,
      "grid_gap": null,
      "grid_row": null,
      "grid_template_areas": null,
      "grid_template_columns": null,
      "grid_template_rows": null,
      "height": null,
      "justify_content": null,
      "justify_items": null,
      "left": null,
      "margin": null,
      "max_height": null,
      "max_width": null,
      "min_height": null,
      "min_width": null,
      "object_fit": null,
      "object_position": null,
      "order": null,
      "overflow": null,
      "overflow_x": null,
      "overflow_y": null,
      "padding": null,
      "right": null,
      "top": null,
      "visibility": null,
      "width": null
     }
    },
    "1bbcb53887bc4312ab8bae04ffaced41": {
     "model_module": "@jupyter-widgets/controls",
     "model_name": "FloatProgressModel",
     "state": {
      "_dom_classes": [],
      "_model_module": "@jupyter-widgets/controls",
      "_model_module_version": "1.5.0",
      "_model_name": "FloatProgressModel",
      "_view_count": null,
      "_view_module": "@jupyter-widgets/controls",
      "_view_module_version": "1.5.0",
      "_view_name": "ProgressView",
      "bar_style": "success",
      "description": "Downloading: 100%",
      "description_tooltip": null,
      "layout": "IPY_MODEL_febb5ed476184e7699bf6455143fca73",
      "max": 213450,
      "min": 0,
      "orientation": "horizontal",
      "style": "IPY_MODEL_371c6611cc3640688ad1e7654122239c",
      "value": 213450
     }
    },
    "2773b90727244b9a83ff76389cc853aa": {
     "model_module": "@jupyter-widgets/base",
     "model_name": "LayoutModel",
     "state": {
      "_model_module": "@jupyter-widgets/base",
      "_model_module_version": "1.2.0",
      "_model_name": "LayoutModel",
      "_view_count": null,
      "_view_module": "@jupyter-widgets/base",
      "_view_module_version": "1.2.0",
      "_view_name": "LayoutView",
      "align_content": null,
      "align_items": null,
      "align_self": null,
      "border": null,
      "bottom": null,
      "display": null,
      "flex": null,
      "flex_flow": null,
      "grid_area": null,
      "grid_auto_columns": null,
      "grid_auto_flow": null,
      "grid_auto_rows": null,
      "grid_column": null,
      "grid_gap": null,
      "grid_row": null,
      "grid_template_areas": null,
      "grid_template_columns": null,
      "grid_template_rows": null,
      "height": null,
      "justify_content": null,
      "justify_items": null,
      "left": null,
      "margin": null,
      "max_height": null,
      "max_width": null,
      "min_height": null,
      "min_width": null,
      "object_fit": null,
      "object_position": null,
      "order": null,
      "overflow": null,
      "overflow_x": null,
      "overflow_y": null,
      "padding": null,
      "right": null,
      "top": null,
      "visibility": null,
      "width": null
     }
    },
    "2b1bb4fb469c4d9b8cfc3893861b56e4": {
     "model_module": "@jupyter-widgets/controls",
     "model_name": "DescriptionStyleModel",
     "state": {
      "_model_module": "@jupyter-widgets/controls",
      "_model_module_version": "1.5.0",
      "_model_name": "DescriptionStyleModel",
      "_view_count": null,
      "_view_module": "@jupyter-widgets/base",
      "_view_module_version": "1.2.0",
      "_view_name": "StyleView",
      "description_width": ""
     }
    },
    "371c6611cc3640688ad1e7654122239c": {
     "model_module": "@jupyter-widgets/controls",
     "model_name": "ProgressStyleModel",
     "state": {
      "_model_module": "@jupyter-widgets/controls",
      "_model_module_version": "1.5.0",
      "_model_name": "ProgressStyleModel",
      "_view_count": null,
      "_view_module": "@jupyter-widgets/base",
      "_view_module_version": "1.2.0",
      "_view_name": "StyleView",
      "bar_color": null,
      "description_width": "initial"
     }
    },
    "4af2bd32633d4a649769b1901758afc5": {
     "model_module": "@jupyter-widgets/controls",
     "model_name": "DescriptionStyleModel",
     "state": {
      "_model_module": "@jupyter-widgets/controls",
      "_model_module_version": "1.5.0",
      "_model_name": "DescriptionStyleModel",
      "_view_count": null,
      "_view_module": "@jupyter-widgets/base",
      "_view_module_version": "1.2.0",
      "_view_name": "StyleView",
      "description_width": ""
     }
    },
    "50339db0142746eabbba24bb6934ee39": {
     "model_module": "@jupyter-widgets/controls",
     "model_name": "FloatProgressModel",
     "state": {
      "_dom_classes": [],
      "_model_module": "@jupyter-widgets/controls",
      "_model_module_version": "1.5.0",
      "_model_name": "FloatProgressModel",
      "_view_count": null,
      "_view_module": "@jupyter-widgets/controls",
      "_view_module_version": "1.5.0",
      "_view_name": "ProgressView",
      "bar_style": "success",
      "description": "Downloading: 100%",
      "description_tooltip": null,
      "layout": "IPY_MODEL_158d4682fcfe467f808f6388e73a3f41",
      "max": 435779157,
      "min": 0,
      "orientation": "horizontal",
      "style": "IPY_MODEL_977994e73b274db69557fe785467bbcb",
      "value": 435779157
     }
    },
    "5c5fa0538576441cbb500e4579c4dbb4": {
     "model_module": "@jupyter-widgets/controls",
     "model_name": "HBoxModel",
     "state": {
      "_dom_classes": [],
      "_model_module": "@jupyter-widgets/controls",
      "_model_module_version": "1.5.0",
      "_model_name": "HBoxModel",
      "_view_count": null,
      "_view_module": "@jupyter-widgets/controls",
      "_view_module_version": "1.5.0",
      "_view_name": "HBoxView",
      "box_style": "",
      "children": [
       "IPY_MODEL_f955795e55ef4c32b94dd6a9b91aeda2",
       "IPY_MODEL_11fe54802a5e46c5ad8e3f1f0bd04e7d"
      ],
      "layout": "IPY_MODEL_6788354a22ae4ddea1494ff20464e705"
     }
    },
    "60406a6fa2f5485796b4b34cc4a1076f": {
     "model_module": "@jupyter-widgets/base",
     "model_name": "LayoutModel",
     "state": {
      "_model_module": "@jupyter-widgets/base",
      "_model_module_version": "1.2.0",
      "_model_name": "LayoutModel",
      "_view_count": null,
      "_view_module": "@jupyter-widgets/base",
      "_view_module_version": "1.2.0",
      "_view_name": "LayoutView",
      "align_content": null,
      "align_items": null,
      "align_self": null,
      "border": null,
      "bottom": null,
      "display": null,
      "flex": null,
      "flex_flow": null,
      "grid_area": null,
      "grid_auto_columns": null,
      "grid_auto_flow": null,
      "grid_auto_rows": null,
      "grid_column": null,
      "grid_gap": null,
      "grid_row": null,
      "grid_template_areas": null,
      "grid_template_columns": null,
      "grid_template_rows": null,
      "height": null,
      "justify_content": null,
      "justify_items": null,
      "left": null,
      "margin": null,
      "max_height": null,
      "max_width": null,
      "min_height": null,
      "min_width": null,
      "object_fit": null,
      "object_position": null,
      "order": null,
      "overflow": null,
      "overflow_x": null,
      "overflow_y": null,
      "padding": null,
      "right": null,
      "top": null,
      "visibility": null,
      "width": null
     }
    },
    "6788354a22ae4ddea1494ff20464e705": {
     "model_module": "@jupyter-widgets/base",
     "model_name": "LayoutModel",
     "state": {
      "_model_module": "@jupyter-widgets/base",
      "_model_module_version": "1.2.0",
      "_model_name": "LayoutModel",
      "_view_count": null,
      "_view_module": "@jupyter-widgets/base",
      "_view_module_version": "1.2.0",
      "_view_name": "LayoutView",
      "align_content": null,
      "align_items": null,
      "align_self": null,
      "border": null,
      "bottom": null,
      "display": null,
      "flex": null,
      "flex_flow": null,
      "grid_area": null,
      "grid_auto_columns": null,
      "grid_auto_flow": null,
      "grid_auto_rows": null,
      "grid_column": null,
      "grid_gap": null,
      "grid_row": null,
      "grid_template_areas": null,
      "grid_template_columns": null,
      "grid_template_rows": null,
      "height": null,
      "justify_content": null,
      "justify_items": null,
      "left": null,
      "margin": null,
      "max_height": null,
      "max_width": null,
      "min_height": null,
      "min_width": null,
      "object_fit": null,
      "object_position": null,
      "order": null,
      "overflow": null,
      "overflow_x": null,
      "overflow_y": null,
      "padding": null,
      "right": null,
      "top": null,
      "visibility": null,
      "width": null
     }
    },
    "6859af9de0954420814b15fe47e71da9": {
     "model_module": "@jupyter-widgets/controls",
     "model_name": "DescriptionStyleModel",
     "state": {
      "_model_module": "@jupyter-widgets/controls",
      "_model_module_version": "1.5.0",
      "_model_name": "DescriptionStyleModel",
      "_view_count": null,
      "_view_module": "@jupyter-widgets/base",
      "_view_module_version": "1.2.0",
      "_view_name": "StyleView",
      "description_width": ""
     }
    },
    "977994e73b274db69557fe785467bbcb": {
     "model_module": "@jupyter-widgets/controls",
     "model_name": "ProgressStyleModel",
     "state": {
      "_model_module": "@jupyter-widgets/controls",
      "_model_module_version": "1.5.0",
      "_model_name": "ProgressStyleModel",
      "_view_count": null,
      "_view_module": "@jupyter-widgets/base",
      "_view_module_version": "1.2.0",
      "_view_name": "StyleView",
      "bar_color": null,
      "description_width": "initial"
     }
    },
    "9f7d6674a309468d832a23302e53223e": {
     "model_module": "@jupyter-widgets/controls",
     "model_name": "ProgressStyleModel",
     "state": {
      "_model_module": "@jupyter-widgets/controls",
      "_model_module_version": "1.5.0",
      "_model_name": "ProgressStyleModel",
      "_view_count": null,
      "_view_module": "@jupyter-widgets/base",
      "_view_module_version": "1.2.0",
      "_view_name": "StyleView",
      "bar_color": null,
      "description_width": "initial"
     }
    },
    "a5dba229e6b84555abd93bafa1dcc046": {
     "model_module": "@jupyter-widgets/base",
     "model_name": "LayoutModel",
     "state": {
      "_model_module": "@jupyter-widgets/base",
      "_model_module_version": "1.2.0",
      "_model_name": "LayoutModel",
      "_view_count": null,
      "_view_module": "@jupyter-widgets/base",
      "_view_module_version": "1.2.0",
      "_view_name": "LayoutView",
      "align_content": null,
      "align_items": null,
      "align_self": null,
      "border": null,
      "bottom": null,
      "display": null,
      "flex": null,
      "flex_flow": null,
      "grid_area": null,
      "grid_auto_columns": null,
      "grid_auto_flow": null,
      "grid_auto_rows": null,
      "grid_column": null,
      "grid_gap": null,
      "grid_row": null,
      "grid_template_areas": null,
      "grid_template_columns": null,
      "grid_template_rows": null,
      "height": null,
      "justify_content": null,
      "justify_items": null,
      "left": null,
      "margin": null,
      "max_height": null,
      "max_width": null,
      "min_height": null,
      "min_width": null,
      "object_fit": null,
      "object_position": null,
      "order": null,
      "overflow": null,
      "overflow_x": null,
      "overflow_y": null,
      "padding": null,
      "right": null,
      "top": null,
      "visibility": null,
      "width": null
     }
    },
    "b9af4581facb4502b0f59b8aa4fd131e": {
     "model_module": "@jupyter-widgets/controls",
     "model_name": "HTMLModel",
     "state": {
      "_dom_classes": [],
      "_model_module": "@jupyter-widgets/controls",
      "_model_module_version": "1.5.0",
      "_model_name": "HTMLModel",
      "_view_count": null,
      "_view_module": "@jupyter-widgets/controls",
      "_view_module_version": "1.5.0",
      "_view_name": "HTMLView",
      "description": "",
      "description_tooltip": null,
      "layout": "IPY_MODEL_a5dba229e6b84555abd93bafa1dcc046",
      "placeholder": "​",
      "style": "IPY_MODEL_6859af9de0954420814b15fe47e71da9",
      "value": " 436M/436M [00:06&lt;00:00, 66.8MB/s]"
     }
    },
    "b9de47b549654866bfb7f76f6fcb5d7a": {
     "model_module": "@jupyter-widgets/controls",
     "model_name": "HTMLModel",
     "state": {
      "_dom_classes": [],
      "_model_module": "@jupyter-widgets/controls",
      "_model_module_version": "1.5.0",
      "_model_name": "HTMLModel",
      "_view_count": null,
      "_view_module": "@jupyter-widgets/controls",
      "_view_module_version": "1.5.0",
      "_view_name": "HTMLView",
      "description": "",
      "description_tooltip": null,
      "layout": "IPY_MODEL_2773b90727244b9a83ff76389cc853aa",
      "placeholder": "​",
      "style": "IPY_MODEL_2b1bb4fb469c4d9b8cfc3893861b56e4",
      "value": " 213k/213k [00:00&lt;00:00, 890kB/s]"
     }
    },
    "efbc636990ca4236ac236b2613c579d6": {
     "model_module": "@jupyter-widgets/base",
     "model_name": "LayoutModel",
     "state": {
      "_model_module": "@jupyter-widgets/base",
      "_model_module_version": "1.2.0",
      "_model_name": "LayoutModel",
      "_view_count": null,
      "_view_module": "@jupyter-widgets/base",
      "_view_module_version": "1.2.0",
      "_view_name": "LayoutView",
      "align_content": null,
      "align_items": null,
      "align_self": null,
      "border": null,
      "bottom": null,
      "display": null,
      "flex": null,
      "flex_flow": null,
      "grid_area": null,
      "grid_auto_columns": null,
      "grid_auto_flow": null,
      "grid_auto_rows": null,
      "grid_column": null,
      "grid_gap": null,
      "grid_row": null,
      "grid_template_areas": null,
      "grid_template_columns": null,
      "grid_template_rows": null,
      "height": null,
      "justify_content": null,
      "justify_items": null,
      "left": null,
      "margin": null,
      "max_height": null,
      "max_width": null,
      "min_height": null,
      "min_width": null,
      "object_fit": null,
      "object_position": null,
      "order": null,
      "overflow": null,
      "overflow_x": null,
      "overflow_y": null,
      "padding": null,
      "right": null,
      "top": null,
      "visibility": null,
      "width": null
     }
    },
    "f0b1bc404aa0440cb4e4b3dab3c66274": {
     "model_module": "@jupyter-widgets/base",
     "model_name": "LayoutModel",
     "state": {
      "_model_module": "@jupyter-widgets/base",
      "_model_module_version": "1.2.0",
      "_model_name": "LayoutModel",
      "_view_count": null,
      "_view_module": "@jupyter-widgets/base",
      "_view_module_version": "1.2.0",
      "_view_name": "LayoutView",
      "align_content": null,
      "align_items": null,
      "align_self": null,
      "border": null,
      "bottom": null,
      "display": null,
      "flex": null,
      "flex_flow": null,
      "grid_area": null,
      "grid_auto_columns": null,
      "grid_auto_flow": null,
      "grid_auto_rows": null,
      "grid_column": null,
      "grid_gap": null,
      "grid_row": null,
      "grid_template_areas": null,
      "grid_template_columns": null,
      "grid_template_rows": null,
      "height": null,
      "justify_content": null,
      "justify_items": null,
      "left": null,
      "margin": null,
      "max_height": null,
      "max_width": null,
      "min_height": null,
      "min_width": null,
      "object_fit": null,
      "object_position": null,
      "order": null,
      "overflow": null,
      "overflow_x": null,
      "overflow_y": null,
      "padding": null,
      "right": null,
      "top": null,
      "visibility": null,
      "width": null
     }
    },
    "f955795e55ef4c32b94dd6a9b91aeda2": {
     "model_module": "@jupyter-widgets/controls",
     "model_name": "FloatProgressModel",
     "state": {
      "_dom_classes": [],
      "_model_module": "@jupyter-widgets/controls",
      "_model_module_version": "1.5.0",
      "_model_name": "FloatProgressModel",
      "_view_count": null,
      "_view_module": "@jupyter-widgets/controls",
      "_view_module_version": "1.5.0",
      "_view_name": "ProgressView",
      "bar_style": "success",
      "description": "Downloading: 100%",
      "description_tooltip": null,
      "layout": "IPY_MODEL_efbc636990ca4236ac236b2613c579d6",
      "max": 433,
      "min": 0,
      "orientation": "horizontal",
      "style": "IPY_MODEL_9f7d6674a309468d832a23302e53223e",
      "value": 433
     }
    },
    "febb5ed476184e7699bf6455143fca73": {
     "model_module": "@jupyter-widgets/base",
     "model_name": "LayoutModel",
     "state": {
      "_model_module": "@jupyter-widgets/base",
      "_model_module_version": "1.2.0",
      "_model_name": "LayoutModel",
      "_view_count": null,
      "_view_module": "@jupyter-widgets/base",
      "_view_module_version": "1.2.0",
      "_view_name": "LayoutView",
      "align_content": null,
      "align_items": null,
      "align_self": null,
      "border": null,
      "bottom": null,
      "display": null,
      "flex": null,
      "flex_flow": null,
      "grid_area": null,
      "grid_auto_columns": null,
      "grid_auto_flow": null,
      "grid_auto_rows": null,
      "grid_column": null,
      "grid_gap": null,
      "grid_row": null,
      "grid_template_areas": null,
      "grid_template_columns": null,
      "grid_template_rows": null,
      "height": null,
      "justify_content": null,
      "justify_items": null,
      "left": null,
      "margin": null,
      "max_height": null,
      "max_width": null,
      "min_height": null,
      "min_width": null,
      "object_fit": null,
      "object_position": null,
      "order": null,
      "overflow": null,
      "overflow_x": null,
      "overflow_y": null,
      "padding": null,
      "right": null,
      "top": null,
      "visibility": null,
      "width": null
     }
    }
   }
  }
 },
 "nbformat": 4,
 "nbformat_minor": 1
}
